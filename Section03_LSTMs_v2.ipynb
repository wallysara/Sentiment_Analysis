{
  "cells": [
    {
      "cell_type": "code",
      "execution_count": null,
      "metadata": {
        "colab": {
          "base_uri": "https://localhost:8080/"
        },
        "id": "sq_rktaKpiBP",
        "outputId": "a2f206a7-1b5e-4ba4-f267-c33cca181e78"
      },
      "outputs": [
        {
          "output_type": "stream",
          "name": "stdout",
          "text": [
            "Drive already mounted at /content/drive; to attempt to forcibly remount, call drive.mount(\"/content/drive\", force_remount=True).\n",
            "Libraries imported successfully!\n"
          ]
        }
      ],
      "source": [
        "from google.colab import drive\n",
        "drive.mount('/content/drive')\n",
        "\n",
        "import pandas as pd\n",
        "import numpy as np\n",
        "import tensorflow as tf\n",
        "from tensorflow.keras.preprocessing.text import Tokenizer\n",
        "from tensorflow.keras.preprocessing.sequence import pad_sequences\n",
        "from tensorflow.keras.models import Model\n",
        "from tensorflow.keras.layers import (Input, Embedding, Bidirectional, LSTM,\n",
        "                                   Dense, Dropout, GlobalMaxPooling1D, GlobalAveragePooling1D,\n",
        "                                   Concatenate, Layer, BatchNormalization)\n",
        "from tensorflow.keras.optimizers import Adam\n",
        "from tensorflow.keras.callbacks import EarlyStopping, ReduceLROnPlateau\n",
        "from sklearn.model_selection import train_test_split\n",
        "from sklearn.metrics import classification_report, f1_score, confusion_matrix\n",
        "from sklearn.utils.class_weight import compute_class_weight\n",
        "import matplotlib.pyplot as plt\n",
        "\n",
        "project_path = '/content/drive/MyDrive/Colab Notebooks/Final Project/'\n",
        "\n",
        "tf.random.set_seed(42)\n",
        "np.random.seed(42)\n",
        "\n",
        "print(\"Libraries imported successfully!\")"
      ]
    },
    {
      "cell_type": "code",
      "execution_count": null,
      "metadata": {
        "colab": {
          "base_uri": "https://localhost:8080/"
        },
        "id": "nUvqTheEpsDF",
        "outputId": "f631a2c8-1693-4784-c522-ef9f7d873a33"
      },
      "outputs": [
        {
          "output_type": "stream",
          "name": "stdout",
          "text": [
            "Training data: (838944, 11)\n",
            "Test data: (20000, 10)\n",
            "Using original text columns\n",
            "\n",
            "Rating distribution in training data:\n",
            "overall\n",
            "1     82950\n",
            "2     56756\n",
            "3     81239\n",
            "4    156514\n",
            "5    461485\n",
            "Name: count, dtype: int64\n",
            "Sampled data distribution:\n",
            "Label 1: 2500 samples\n",
            "Label 2: 2500 samples\n",
            "Label 3: 2500 samples\n",
            "Label 4: 2500 samples\n",
            "Label 5: 2500 samples\n",
            "Original training size: 838944\n",
            "Sampled training size: 12500\n"
          ]
        }
      ],
      "source": [
        "def load_preprocessed_data():\n",
        "    train_df = pd.read_csv(project_path + 'train_data.csv', low_memory=False)\n",
        "    test_df = pd.read_csv(project_path + 'test_data.csv')\n",
        "\n",
        "    print(f\"Training data: {train_df.shape}\")\n",
        "    print(f\"Test data: {test_df.shape}\")\n",
        "\n",
        "    if 'cleaned_review' in train_df.columns:\n",
        "        print(\"Using pre-cleaned text columns\")\n",
        "        review_col = 'cleaned_review'\n",
        "        summary_col = 'cleaned_summary'\n",
        "    else:\n",
        "        print(\"Using original text columns\")\n",
        "        review_col = 'reviewText'\n",
        "        summary_col = 'summary'\n",
        "\n",
        "    train_df['combined_text'] = train_df[review_col].fillna('') + \" \" + train_df[summary_col].fillna('')\n",
        "    test_df['combined_text'] = test_df[review_col].fillna('') + \" \" + test_df[summary_col].fillna('')\n",
        "\n",
        "    y_train = train_df['overall'] - 1\n",
        "\n",
        "    print(\"\\nRating distribution in training data:\")\n",
        "    print(train_df['overall'].value_counts().sort_index())\n",
        "\n",
        "    return train_df, test_df, y_train\n",
        "\n",
        "train_df, test_df, y_train = load_preprocessed_data()\n",
        "\n",
        "def sample_data_balanced(df, y, samples_per_label=2500):\n",
        "    sampled_indices = []\n",
        "\n",
        "    for label in range(5):\n",
        "        label_indices = df.index[y == label].tolist()\n",
        "\n",
        "        if len(label_indices) > samples_per_label:\n",
        "            selected_indices = np.random.choice(label_indices, size=samples_per_label, replace=False)\n",
        "            sampled_indices.extend(selected_indices)\n",
        "        else:\n",
        "            sampled_indices.extend(label_indices)\n",
        "\n",
        "    df_sampled = df.loc[sampled_indices].copy()\n",
        "    y_sampled = y[sampled_indices]\n",
        "\n",
        "    print(f\"Sampled data distribution:\")\n",
        "    for label in range(5):\n",
        "        count = np.sum(y_sampled == label)\n",
        "        print(f\"Label {label+1}: {count} samples\")\n",
        "\n",
        "    return df_sampled, y_sampled\n",
        "\n",
        "train_df_sampled, y_train_sampled = sample_data_balanced(train_df, y_train, samples_per_label=2500)\n",
        "print(f\"Original training size: {len(train_df)}\")\n",
        "print(f\"Sampled training size: {len(train_df_sampled)}\")"
      ]
    },
    {
      "cell_type": "code",
      "source": [
        "def improved_text_vectorization(train_texts, test_texts, max_features=20000, max_len=180):\n",
        "    print(\"Vectorizing text data...\")\n",
        "\n",
        "    tokenizer = Tokenizer(num_words=max_features, oov_token=\"<OOV>\",\n",
        "                         filters='!\"#$%&()*+,-./:;<=>?@[\\\\]^_`{|}~\\t\\n',\n",
        "                         lower=True)\n",
        "    tokenizer.fit_on_texts(train_texts)\n",
        "\n",
        "    train_sequences = tokenizer.texts_to_sequences(train_texts)\n",
        "    test_sequences = tokenizer.texts_to_sequences(test_texts)\n",
        "\n",
        "    X_train = pad_sequences(train_sequences, maxlen=max_len, padding='post', truncating='post')\n",
        "    X_test = pad_sequences(test_sequences, maxlen=max_len, padding='post', truncating='post')\n",
        "\n",
        "    print(f\"Training sequences: {X_train.shape}\")\n",
        "    print(f\"Test sequences: {X_test.shape}\")\n",
        "    print(f\"Vocabulary size: {len(tokenizer.word_index)}\")\n",
        "\n",
        "    return X_train, X_test, tokenizer\n",
        "\n",
        "X_train, X_test, tokenizer = improved_text_vectorization(\n",
        "    train_df_sampled['combined_text'].values,\n",
        "    test_df['combined_text'].values,\n",
        "    max_features=20000,\n",
        "    max_len=180\n",
        ")"
      ],
      "metadata": {
        "id": "3c5aMc79h2kq",
        "colab": {
          "base_uri": "https://localhost:8080/"
        },
        "outputId": "76706ff0-d044-4a62-b403-fc11922ab198"
      },
      "execution_count": null,
      "outputs": [
        {
          "output_type": "stream",
          "name": "stdout",
          "text": [
            "Vectorizing text data...\n",
            "Training sequences: (12500, 180)\n",
            "Test sequences: (20000, 180)\n",
            "Vocabulary size: 28822\n"
          ]
        }
      ]
    },
    {
      "cell_type": "code",
      "source": [
        "class SimpleAttention(Layer):\n",
        "    def __init__(self, **kwargs):\n",
        "        super(SimpleAttention, self).__init__(**kwargs)\n",
        "\n",
        "    def build(self, input_shape):\n",
        "        self.attention_weights = self.add_weight(\n",
        "            name=\"attention_weights\",\n",
        "            shape=(input_shape[-1], 1),\n",
        "            initializer=\"glorot_uniform\",\n",
        "            trainable=True\n",
        "        )\n",
        "        super(SimpleAttention, self).build(input_shape)\n",
        "\n",
        "    def call(self, inputs):\n",
        "        attention_scores = tf.tensordot(inputs, self.attention_weights, axes=1)\n",
        "        attention_weights = tf.nn.softmax(attention_scores, axis=1)\n",
        "        weighted_output = inputs * attention_weights\n",
        "        return tf.reduce_sum(weighted_output, axis=1)\n",
        "\n",
        "def build_final_model(vocab_size, max_len=180, num_classes=5):\n",
        "    print(\"Building final optimized model...\")\n",
        "\n",
        "    text_input = Input(shape=(max_len,), name=\"text_input\")\n",
        "\n",
        "    # Embedding بدون ماسک\n",
        "    embedding = Embedding(\n",
        "        input_dim=vocab_size + 1,\n",
        "        output_dim=128,\n",
        "        input_length=max_len,\n",
        "        mask_zero=False,  # مهم: غیرفعال کردن ماسک\n",
        "        name=\"embedding\"\n",
        "    )(text_input)\n",
        "\n",
        "    # دو لایه LSTM دوطرفه\n",
        "    lstm1 = Bidirectional(\n",
        "        LSTM(128, return_sequences=True, dropout=0.3, recurrent_dropout=0.2)\n",
        "    )(embedding)\n",
        "\n",
        "    lstm2 = Bidirectional(\n",
        "        LSTM(64, return_sequences=True, dropout=0.3, recurrent_dropout=0.2)\n",
        "    )(lstm1)\n",
        "\n",
        "    # توجه ساده\n",
        "    attention = SimpleAttention()(lstm2)\n",
        "\n",
        "    # Pooling‌های مختلف\n",
        "    global_max = GlobalMaxPooling1D()(lstm2)\n",
        "    global_avg = GlobalAveragePooling1D()(lstm2)\n",
        "\n",
        "    # ترکیب همه ویژگی‌ها\n",
        "    concatenated = Concatenate()([attention, global_max, global_avg])\n",
        "\n",
        "    # نرمال‌سازی\n",
        "    bn = BatchNormalization()(concatenated)\n",
        "\n",
        "    # طبقه‌بندی\n",
        "    x = Dense(64, activation='relu')(bn)\n",
        "    x = Dropout(0.5)(x)\n",
        "\n",
        "    x = Dense(32, activation='relu')(x)\n",
        "    x = Dropout(0.4)(x)\n",
        "\n",
        "    output = Dense(num_classes, activation='softmax')(x)\n",
        "\n",
        "    model = Model(inputs=text_input, outputs=output)\n",
        "\n",
        "    model.compile(\n",
        "        optimizer=Adam(learning_rate=0.001),\n",
        "        loss='sparse_categorical_crossentropy',\n",
        "        metrics=['accuracy']\n",
        "    )\n",
        "\n",
        "    return model\n",
        "\n",
        "# ساخت مدل\n",
        "model = build_final_model(\n",
        "    vocab_size=min(20000, len(tokenizer.word_index)),\n",
        "    max_len=180\n",
        ")\n",
        "\n",
        "print(model.summary())"
      ],
      "metadata": {
        "id": "Tw4ca8_Rh4sB",
        "colab": {
          "base_uri": "https://localhost:8080/",
          "height": 810
        },
        "outputId": "376afd80-2f09-4580-9b1c-2f5905764690"
      },
      "execution_count": null,
      "outputs": [
        {
          "output_type": "stream",
          "name": "stdout",
          "text": [
            "Building final optimized model...\n"
          ]
        },
        {
          "output_type": "stream",
          "name": "stderr",
          "text": [
            "/usr/local/lib/python3.12/dist-packages/keras/src/layers/core/embedding.py:97: UserWarning: Argument `input_length` is deprecated. Just remove it.\n",
            "  warnings.warn(\n"
          ]
        },
        {
          "output_type": "display_data",
          "data": {
            "text/plain": [
              "\u001b[1mModel: \"functional\"\u001b[0m\n"
            ],
            "text/html": [
              "<pre style=\"white-space:pre;overflow-x:auto;line-height:normal;font-family:Menlo,'DejaVu Sans Mono',consolas,'Courier New',monospace\"><span style=\"font-weight: bold\">Model: \"functional\"</span>\n",
              "</pre>\n"
            ]
          },
          "metadata": {}
        },
        {
          "output_type": "display_data",
          "data": {
            "text/plain": [
              "┏━━━━━━━━━━━━━━━━━━━━━┳━━━━━━━━━━━━━━━━━━━┳━━━━━━━━━━━━┳━━━━━━━━━━━━━━━━━━━┓\n",
              "┃\u001b[1m \u001b[0m\u001b[1mLayer (type)       \u001b[0m\u001b[1m \u001b[0m┃\u001b[1m \u001b[0m\u001b[1mOutput Shape     \u001b[0m\u001b[1m \u001b[0m┃\u001b[1m \u001b[0m\u001b[1m   Param #\u001b[0m\u001b[1m \u001b[0m┃\u001b[1m \u001b[0m\u001b[1mConnected to     \u001b[0m\u001b[1m \u001b[0m┃\n",
              "┡━━━━━━━━━━━━━━━━━━━━━╇━━━━━━━━━━━━━━━━━━━╇━━━━━━━━━━━━╇━━━━━━━━━━━━━━━━━━━┩\n",
              "│ text_input          │ (\u001b[38;5;45mNone\u001b[0m, \u001b[38;5;34m180\u001b[0m)       │          \u001b[38;5;34m0\u001b[0m │ -                 │\n",
              "│ (\u001b[38;5;33mInputLayer\u001b[0m)        │                   │            │                   │\n",
              "├─────────────────────┼───────────────────┼────────────┼───────────────────┤\n",
              "│ embedding           │ (\u001b[38;5;45mNone\u001b[0m, \u001b[38;5;34m180\u001b[0m, \u001b[38;5;34m128\u001b[0m)  │  \u001b[38;5;34m2,560,128\u001b[0m │ text_input[\u001b[38;5;34m0\u001b[0m][\u001b[38;5;34m0\u001b[0m]  │\n",
              "│ (\u001b[38;5;33mEmbedding\u001b[0m)         │                   │            │                   │\n",
              "├─────────────────────┼───────────────────┼────────────┼───────────────────┤\n",
              "│ bidirectional       │ (\u001b[38;5;45mNone\u001b[0m, \u001b[38;5;34m180\u001b[0m, \u001b[38;5;34m256\u001b[0m)  │    \u001b[38;5;34m263,168\u001b[0m │ embedding[\u001b[38;5;34m0\u001b[0m][\u001b[38;5;34m0\u001b[0m]   │\n",
              "│ (\u001b[38;5;33mBidirectional\u001b[0m)     │                   │            │                   │\n",
              "├─────────────────────┼───────────────────┼────────────┼───────────────────┤\n",
              "│ bidirectional_1     │ (\u001b[38;5;45mNone\u001b[0m, \u001b[38;5;34m180\u001b[0m, \u001b[38;5;34m128\u001b[0m)  │    \u001b[38;5;34m164,352\u001b[0m │ bidirectional[\u001b[38;5;34m0\u001b[0m]… │\n",
              "│ (\u001b[38;5;33mBidirectional\u001b[0m)     │                   │            │                   │\n",
              "├─────────────────────┼───────────────────┼────────────┼───────────────────┤\n",
              "│ simple_attention    │ (\u001b[38;5;45mNone\u001b[0m, \u001b[38;5;34m128\u001b[0m)       │        \u001b[38;5;34m128\u001b[0m │ bidirectional_1[\u001b[38;5;34m…\u001b[0m │\n",
              "│ (\u001b[38;5;33mSimpleAttention\u001b[0m)   │                   │            │                   │\n",
              "├─────────────────────┼───────────────────┼────────────┼───────────────────┤\n",
              "│ global_max_pooling… │ (\u001b[38;5;45mNone\u001b[0m, \u001b[38;5;34m128\u001b[0m)       │          \u001b[38;5;34m0\u001b[0m │ bidirectional_1[\u001b[38;5;34m…\u001b[0m │\n",
              "│ (\u001b[38;5;33mGlobalMaxPooling1…\u001b[0m │                   │            │                   │\n",
              "├─────────────────────┼───────────────────┼────────────┼───────────────────┤\n",
              "│ global_average_poo… │ (\u001b[38;5;45mNone\u001b[0m, \u001b[38;5;34m128\u001b[0m)       │          \u001b[38;5;34m0\u001b[0m │ bidirectional_1[\u001b[38;5;34m…\u001b[0m │\n",
              "│ (\u001b[38;5;33mGlobalAveragePool…\u001b[0m │                   │            │                   │\n",
              "├─────────────────────┼───────────────────┼────────────┼───────────────────┤\n",
              "│ concatenate         │ (\u001b[38;5;45mNone\u001b[0m, \u001b[38;5;34m384\u001b[0m)       │          \u001b[38;5;34m0\u001b[0m │ simple_attention… │\n",
              "│ (\u001b[38;5;33mConcatenate\u001b[0m)       │                   │            │ global_max_pooli… │\n",
              "│                     │                   │            │ global_average_p… │\n",
              "├─────────────────────┼───────────────────┼────────────┼───────────────────┤\n",
              "│ batch_normalization │ (\u001b[38;5;45mNone\u001b[0m, \u001b[38;5;34m384\u001b[0m)       │      \u001b[38;5;34m1,536\u001b[0m │ concatenate[\u001b[38;5;34m0\u001b[0m][\u001b[38;5;34m0\u001b[0m] │\n",
              "│ (\u001b[38;5;33mBatchNormalizatio…\u001b[0m │                   │            │                   │\n",
              "├─────────────────────┼───────────────────┼────────────┼───────────────────┤\n",
              "│ dense (\u001b[38;5;33mDense\u001b[0m)       │ (\u001b[38;5;45mNone\u001b[0m, \u001b[38;5;34m64\u001b[0m)        │     \u001b[38;5;34m24,640\u001b[0m │ batch_normalizat… │\n",
              "├─────────────────────┼───────────────────┼────────────┼───────────────────┤\n",
              "│ dropout (\u001b[38;5;33mDropout\u001b[0m)   │ (\u001b[38;5;45mNone\u001b[0m, \u001b[38;5;34m64\u001b[0m)        │          \u001b[38;5;34m0\u001b[0m │ dense[\u001b[38;5;34m0\u001b[0m][\u001b[38;5;34m0\u001b[0m]       │\n",
              "├─────────────────────┼───────────────────┼────────────┼───────────────────┤\n",
              "│ dense_1 (\u001b[38;5;33mDense\u001b[0m)     │ (\u001b[38;5;45mNone\u001b[0m, \u001b[38;5;34m32\u001b[0m)        │      \u001b[38;5;34m2,080\u001b[0m │ dropout[\u001b[38;5;34m0\u001b[0m][\u001b[38;5;34m0\u001b[0m]     │\n",
              "├─────────────────────┼───────────────────┼────────────┼───────────────────┤\n",
              "│ dropout_1 (\u001b[38;5;33mDropout\u001b[0m) │ (\u001b[38;5;45mNone\u001b[0m, \u001b[38;5;34m32\u001b[0m)        │          \u001b[38;5;34m0\u001b[0m │ dense_1[\u001b[38;5;34m0\u001b[0m][\u001b[38;5;34m0\u001b[0m]     │\n",
              "├─────────────────────┼───────────────────┼────────────┼───────────────────┤\n",
              "│ dense_2 (\u001b[38;5;33mDense\u001b[0m)     │ (\u001b[38;5;45mNone\u001b[0m, \u001b[38;5;34m5\u001b[0m)         │        \u001b[38;5;34m165\u001b[0m │ dropout_1[\u001b[38;5;34m0\u001b[0m][\u001b[38;5;34m0\u001b[0m]   │\n",
              "└─────────────────────┴───────────────────┴────────────┴───────────────────┘\n"
            ],
            "text/html": [
              "<pre style=\"white-space:pre;overflow-x:auto;line-height:normal;font-family:Menlo,'DejaVu Sans Mono',consolas,'Courier New',monospace\">┏━━━━━━━━━━━━━━━━━━━━━┳━━━━━━━━━━━━━━━━━━━┳━━━━━━━━━━━━┳━━━━━━━━━━━━━━━━━━━┓\n",
              "┃<span style=\"font-weight: bold\"> Layer (type)        </span>┃<span style=\"font-weight: bold\"> Output Shape      </span>┃<span style=\"font-weight: bold\">    Param # </span>┃<span style=\"font-weight: bold\"> Connected to      </span>┃\n",
              "┡━━━━━━━━━━━━━━━━━━━━━╇━━━━━━━━━━━━━━━━━━━╇━━━━━━━━━━━━╇━━━━━━━━━━━━━━━━━━━┩\n",
              "│ text_input          │ (<span style=\"color: #00d7ff; text-decoration-color: #00d7ff\">None</span>, <span style=\"color: #00af00; text-decoration-color: #00af00\">180</span>)       │          <span style=\"color: #00af00; text-decoration-color: #00af00\">0</span> │ -                 │\n",
              "│ (<span style=\"color: #0087ff; text-decoration-color: #0087ff\">InputLayer</span>)        │                   │            │                   │\n",
              "├─────────────────────┼───────────────────┼────────────┼───────────────────┤\n",
              "│ embedding           │ (<span style=\"color: #00d7ff; text-decoration-color: #00d7ff\">None</span>, <span style=\"color: #00af00; text-decoration-color: #00af00\">180</span>, <span style=\"color: #00af00; text-decoration-color: #00af00\">128</span>)  │  <span style=\"color: #00af00; text-decoration-color: #00af00\">2,560,128</span> │ text_input[<span style=\"color: #00af00; text-decoration-color: #00af00\">0</span>][<span style=\"color: #00af00; text-decoration-color: #00af00\">0</span>]  │\n",
              "│ (<span style=\"color: #0087ff; text-decoration-color: #0087ff\">Embedding</span>)         │                   │            │                   │\n",
              "├─────────────────────┼───────────────────┼────────────┼───────────────────┤\n",
              "│ bidirectional       │ (<span style=\"color: #00d7ff; text-decoration-color: #00d7ff\">None</span>, <span style=\"color: #00af00; text-decoration-color: #00af00\">180</span>, <span style=\"color: #00af00; text-decoration-color: #00af00\">256</span>)  │    <span style=\"color: #00af00; text-decoration-color: #00af00\">263,168</span> │ embedding[<span style=\"color: #00af00; text-decoration-color: #00af00\">0</span>][<span style=\"color: #00af00; text-decoration-color: #00af00\">0</span>]   │\n",
              "│ (<span style=\"color: #0087ff; text-decoration-color: #0087ff\">Bidirectional</span>)     │                   │            │                   │\n",
              "├─────────────────────┼───────────────────┼────────────┼───────────────────┤\n",
              "│ bidirectional_1     │ (<span style=\"color: #00d7ff; text-decoration-color: #00d7ff\">None</span>, <span style=\"color: #00af00; text-decoration-color: #00af00\">180</span>, <span style=\"color: #00af00; text-decoration-color: #00af00\">128</span>)  │    <span style=\"color: #00af00; text-decoration-color: #00af00\">164,352</span> │ bidirectional[<span style=\"color: #00af00; text-decoration-color: #00af00\">0</span>]… │\n",
              "│ (<span style=\"color: #0087ff; text-decoration-color: #0087ff\">Bidirectional</span>)     │                   │            │                   │\n",
              "├─────────────────────┼───────────────────┼────────────┼───────────────────┤\n",
              "│ simple_attention    │ (<span style=\"color: #00d7ff; text-decoration-color: #00d7ff\">None</span>, <span style=\"color: #00af00; text-decoration-color: #00af00\">128</span>)       │        <span style=\"color: #00af00; text-decoration-color: #00af00\">128</span> │ bidirectional_1[<span style=\"color: #00af00; text-decoration-color: #00af00\">…</span> │\n",
              "│ (<span style=\"color: #0087ff; text-decoration-color: #0087ff\">SimpleAttention</span>)   │                   │            │                   │\n",
              "├─────────────────────┼───────────────────┼────────────┼───────────────────┤\n",
              "│ global_max_pooling… │ (<span style=\"color: #00d7ff; text-decoration-color: #00d7ff\">None</span>, <span style=\"color: #00af00; text-decoration-color: #00af00\">128</span>)       │          <span style=\"color: #00af00; text-decoration-color: #00af00\">0</span> │ bidirectional_1[<span style=\"color: #00af00; text-decoration-color: #00af00\">…</span> │\n",
              "│ (<span style=\"color: #0087ff; text-decoration-color: #0087ff\">GlobalMaxPooling1…</span> │                   │            │                   │\n",
              "├─────────────────────┼───────────────────┼────────────┼───────────────────┤\n",
              "│ global_average_poo… │ (<span style=\"color: #00d7ff; text-decoration-color: #00d7ff\">None</span>, <span style=\"color: #00af00; text-decoration-color: #00af00\">128</span>)       │          <span style=\"color: #00af00; text-decoration-color: #00af00\">0</span> │ bidirectional_1[<span style=\"color: #00af00; text-decoration-color: #00af00\">…</span> │\n",
              "│ (<span style=\"color: #0087ff; text-decoration-color: #0087ff\">GlobalAveragePool…</span> │                   │            │                   │\n",
              "├─────────────────────┼───────────────────┼────────────┼───────────────────┤\n",
              "│ concatenate         │ (<span style=\"color: #00d7ff; text-decoration-color: #00d7ff\">None</span>, <span style=\"color: #00af00; text-decoration-color: #00af00\">384</span>)       │          <span style=\"color: #00af00; text-decoration-color: #00af00\">0</span> │ simple_attention… │\n",
              "│ (<span style=\"color: #0087ff; text-decoration-color: #0087ff\">Concatenate</span>)       │                   │            │ global_max_pooli… │\n",
              "│                     │                   │            │ global_average_p… │\n",
              "├─────────────────────┼───────────────────┼────────────┼───────────────────┤\n",
              "│ batch_normalization │ (<span style=\"color: #00d7ff; text-decoration-color: #00d7ff\">None</span>, <span style=\"color: #00af00; text-decoration-color: #00af00\">384</span>)       │      <span style=\"color: #00af00; text-decoration-color: #00af00\">1,536</span> │ concatenate[<span style=\"color: #00af00; text-decoration-color: #00af00\">0</span>][<span style=\"color: #00af00; text-decoration-color: #00af00\">0</span>] │\n",
              "│ (<span style=\"color: #0087ff; text-decoration-color: #0087ff\">BatchNormalizatio…</span> │                   │            │                   │\n",
              "├─────────────────────┼───────────────────┼────────────┼───────────────────┤\n",
              "│ dense (<span style=\"color: #0087ff; text-decoration-color: #0087ff\">Dense</span>)       │ (<span style=\"color: #00d7ff; text-decoration-color: #00d7ff\">None</span>, <span style=\"color: #00af00; text-decoration-color: #00af00\">64</span>)        │     <span style=\"color: #00af00; text-decoration-color: #00af00\">24,640</span> │ batch_normalizat… │\n",
              "├─────────────────────┼───────────────────┼────────────┼───────────────────┤\n",
              "│ dropout (<span style=\"color: #0087ff; text-decoration-color: #0087ff\">Dropout</span>)   │ (<span style=\"color: #00d7ff; text-decoration-color: #00d7ff\">None</span>, <span style=\"color: #00af00; text-decoration-color: #00af00\">64</span>)        │          <span style=\"color: #00af00; text-decoration-color: #00af00\">0</span> │ dense[<span style=\"color: #00af00; text-decoration-color: #00af00\">0</span>][<span style=\"color: #00af00; text-decoration-color: #00af00\">0</span>]       │\n",
              "├─────────────────────┼───────────────────┼────────────┼───────────────────┤\n",
              "│ dense_1 (<span style=\"color: #0087ff; text-decoration-color: #0087ff\">Dense</span>)     │ (<span style=\"color: #00d7ff; text-decoration-color: #00d7ff\">None</span>, <span style=\"color: #00af00; text-decoration-color: #00af00\">32</span>)        │      <span style=\"color: #00af00; text-decoration-color: #00af00\">2,080</span> │ dropout[<span style=\"color: #00af00; text-decoration-color: #00af00\">0</span>][<span style=\"color: #00af00; text-decoration-color: #00af00\">0</span>]     │\n",
              "├─────────────────────┼───────────────────┼────────────┼───────────────────┤\n",
              "│ dropout_1 (<span style=\"color: #0087ff; text-decoration-color: #0087ff\">Dropout</span>) │ (<span style=\"color: #00d7ff; text-decoration-color: #00d7ff\">None</span>, <span style=\"color: #00af00; text-decoration-color: #00af00\">32</span>)        │          <span style=\"color: #00af00; text-decoration-color: #00af00\">0</span> │ dense_1[<span style=\"color: #00af00; text-decoration-color: #00af00\">0</span>][<span style=\"color: #00af00; text-decoration-color: #00af00\">0</span>]     │\n",
              "├─────────────────────┼───────────────────┼────────────┼───────────────────┤\n",
              "│ dense_2 (<span style=\"color: #0087ff; text-decoration-color: #0087ff\">Dense</span>)     │ (<span style=\"color: #00d7ff; text-decoration-color: #00d7ff\">None</span>, <span style=\"color: #00af00; text-decoration-color: #00af00\">5</span>)         │        <span style=\"color: #00af00; text-decoration-color: #00af00\">165</span> │ dropout_1[<span style=\"color: #00af00; text-decoration-color: #00af00\">0</span>][<span style=\"color: #00af00; text-decoration-color: #00af00\">0</span>]   │\n",
              "└─────────────────────┴───────────────────┴────────────┴───────────────────┘\n",
              "</pre>\n"
            ]
          },
          "metadata": {}
        },
        {
          "output_type": "display_data",
          "data": {
            "text/plain": [
              "\u001b[1m Total params: \u001b[0m\u001b[38;5;34m3,016,197\u001b[0m (11.51 MB)\n"
            ],
            "text/html": [
              "<pre style=\"white-space:pre;overflow-x:auto;line-height:normal;font-family:Menlo,'DejaVu Sans Mono',consolas,'Courier New',monospace\"><span style=\"font-weight: bold\"> Total params: </span><span style=\"color: #00af00; text-decoration-color: #00af00\">3,016,197</span> (11.51 MB)\n",
              "</pre>\n"
            ]
          },
          "metadata": {}
        },
        {
          "output_type": "display_data",
          "data": {
            "text/plain": [
              "\u001b[1m Trainable params: \u001b[0m\u001b[38;5;34m3,015,429\u001b[0m (11.50 MB)\n"
            ],
            "text/html": [
              "<pre style=\"white-space:pre;overflow-x:auto;line-height:normal;font-family:Menlo,'DejaVu Sans Mono',consolas,'Courier New',monospace\"><span style=\"font-weight: bold\"> Trainable params: </span><span style=\"color: #00af00; text-decoration-color: #00af00\">3,015,429</span> (11.50 MB)\n",
              "</pre>\n"
            ]
          },
          "metadata": {}
        },
        {
          "output_type": "display_data",
          "data": {
            "text/plain": [
              "\u001b[1m Non-trainable params: \u001b[0m\u001b[38;5;34m768\u001b[0m (3.00 KB)\n"
            ],
            "text/html": [
              "<pre style=\"white-space:pre;overflow-x:auto;line-height:normal;font-family:Menlo,'DejaVu Sans Mono',consolas,'Courier New',monospace\"><span style=\"font-weight: bold\"> Non-trainable params: </span><span style=\"color: #00af00; text-decoration-color: #00af00\">768</span> (3.00 KB)\n",
              "</pre>\n"
            ]
          },
          "metadata": {}
        },
        {
          "output_type": "stream",
          "name": "stdout",
          "text": [
            "None\n"
          ]
        }
      ]
    },
    {
      "cell_type": "code",
      "source": [
        "def prepare_training_data(X_train, y_train, validation_size=0.15):\n",
        "    X_train_split, X_val, y_train_split, y_val = train_test_split(\n",
        "        X_train, y_train,\n",
        "        test_size=validation_size,\n",
        "        random_state=42,\n",
        "        stratify=y_train\n",
        "    )\n",
        "\n",
        "    print(f\"Training split: {X_train_split.shape}\")\n",
        "    print(f\"Validation split: {X_val.shape}\")\n",
        "\n",
        "    class_weights = compute_class_weight(\n",
        "        'balanced',\n",
        "        classes=np.unique(y_train_split),\n",
        "        y=y_train_split\n",
        "    )\n",
        "    class_weight_dict = {i: weight for i, weight in enumerate(class_weights)}\n",
        "\n",
        "    print(\"Class weights:\", {f\"Class {k+1}\": f\"{v:.2f}\" for k, v in class_weight_dict.items()})\n",
        "\n",
        "    return X_train_split, X_val, y_train_split, y_val, class_weight_dict\n",
        "\n",
        "X_train_split, X_val, y_train_split, y_val, class_weight_dict = prepare_training_data(\n",
        "    X_train, y_train_sampled\n",
        ")"
      ],
      "metadata": {
        "id": "ypa6YDz_h9ki",
        "colab": {
          "base_uri": "https://localhost:8080/"
        },
        "outputId": "fe303b27-fd28-4e8c-bedf-8a980d564416"
      },
      "execution_count": null,
      "outputs": [
        {
          "output_type": "stream",
          "name": "stdout",
          "text": [
            "Training split: (10625, 180)\n",
            "Validation split: (1875, 180)\n",
            "Class weights: {'Class 1': '1.00', 'Class 2': '1.00', 'Class 3': '1.00', 'Class 4': '1.00', 'Class 5': '1.00'}\n"
          ]
        }
      ]
    },
    {
      "cell_type": "code",
      "source": [
        "print(\"Starting training...\")\n",
        "\n",
        "callbacks = [\n",
        "    EarlyStopping(\n",
        "        monitor='val_accuracy',\n",
        "        patience=6,\n",
        "        restore_best_weights=True,\n",
        "        verbose=1\n",
        "    ),\n",
        "    ReduceLROnPlateau(\n",
        "        monitor='val_loss',\n",
        "        factor=0.5,\n",
        "        patience=3,\n",
        "        min_lr=1e-6,\n",
        "        verbose=1\n",
        "    )\n",
        "]\n",
        "\n",
        "history = model.fit(\n",
        "    X_train_split, y_train_split,\n",
        "    batch_size=16,\n",
        "    epochs=15,\n",
        "    validation_data=(X_val, y_val),\n",
        "    class_weight=class_weight_dict,\n",
        "    callbacks=callbacks,\n",
        "    verbose=1\n",
        ")\n",
        "\n",
        "print(\"Training completed!\")"
      ],
      "metadata": {
        "id": "ofj47Hi4h_d7",
        "colab": {
          "base_uri": "https://localhost:8080/"
        },
        "outputId": "20c36428-e84a-4eb0-979b-8e9aec81d4c6"
      },
      "execution_count": null,
      "outputs": [
        {
          "output_type": "stream",
          "name": "stdout",
          "text": [
            "Starting training...\n",
            "Epoch 1/15\n",
            "\u001b[1m665/665\u001b[0m \u001b[32m━━━━━━━━━━━━━━━━━━━━\u001b[0m\u001b[37m\u001b[0m \u001b[1m864s\u001b[0m 1s/step - accuracy: 0.2071 - loss: 1.6859 - val_accuracy: 0.3163 - val_loss: 1.4556 - learning_rate: 0.0010\n",
            "Epoch 2/15\n",
            "\u001b[1m665/665\u001b[0m \u001b[32m━━━━━━━━━━━━━━━━━━━━\u001b[0m\u001b[37m\u001b[0m \u001b[1m827s\u001b[0m 1s/step - accuracy: 0.3413 - loss: 1.4334 - val_accuracy: 0.3824 - val_loss: 1.2879 - learning_rate: 0.0010\n",
            "Epoch 3/15\n",
            "\u001b[1m665/665\u001b[0m \u001b[32m━━━━━━━━━━━━━━━━━━━━\u001b[0m\u001b[37m\u001b[0m \u001b[1m823s\u001b[0m 1s/step - accuracy: 0.4275 - loss: 1.2707 - val_accuracy: 0.4597 - val_loss: 1.2772 - learning_rate: 0.0010\n",
            "Epoch 4/15\n",
            "\u001b[1m665/665\u001b[0m \u001b[32m━━━━━━━━━━━━━━━━━━━━\u001b[0m\u001b[37m\u001b[0m \u001b[1m827s\u001b[0m 1s/step - accuracy: 0.4887 - loss: 1.1432 - val_accuracy: 0.4827 - val_loss: 1.2314 - learning_rate: 0.0010\n",
            "Epoch 5/15\n",
            "\u001b[1m665/665\u001b[0m \u001b[32m━━━━━━━━━━━━━━━━━━━━\u001b[0m\u001b[37m\u001b[0m \u001b[1m857s\u001b[0m 1s/step - accuracy: 0.5444 - loss: 1.0306 - val_accuracy: 0.4811 - val_loss: 1.3165 - learning_rate: 0.0010\n",
            "Epoch 6/15\n",
            "\u001b[1m665/665\u001b[0m \u001b[32m━━━━━━━━━━━━━━━━━━━━\u001b[0m\u001b[37m\u001b[0m \u001b[1m823s\u001b[0m 1s/step - accuracy: 0.5987 - loss: 0.9151 - val_accuracy: 0.4805 - val_loss: 1.5559 - learning_rate: 0.0010\n",
            "Epoch 7/15\n",
            "\u001b[1m665/665\u001b[0m \u001b[32m━━━━━━━━━━━━━━━━━━━━\u001b[0m\u001b[37m\u001b[0m \u001b[1m0s\u001b[0m 1s/step - accuracy: 0.6255 - loss: 0.8601\n",
            "Epoch 7: ReduceLROnPlateau reducing learning rate to 0.0005000000237487257.\n",
            "\u001b[1m665/665\u001b[0m \u001b[32m━━━━━━━━━━━━━━━━━━━━\u001b[0m\u001b[37m\u001b[0m \u001b[1m867s\u001b[0m 1s/step - accuracy: 0.6255 - loss: 0.8601 - val_accuracy: 0.4672 - val_loss: 1.5528 - learning_rate: 0.0010\n",
            "Epoch 8/15\n",
            "\u001b[1m665/665\u001b[0m \u001b[32m━━━━━━━━━━━━━━━━━━━━\u001b[0m\u001b[37m\u001b[0m \u001b[1m879s\u001b[0m 1s/step - accuracy: 0.7094 - loss: 0.7298 - val_accuracy: 0.4469 - val_loss: 2.0078 - learning_rate: 5.0000e-04\n",
            "Epoch 9/15\n",
            "\u001b[1m665/665\u001b[0m \u001b[32m━━━━━━━━━━━━━━━━━━━━\u001b[0m\u001b[37m\u001b[0m \u001b[1m841s\u001b[0m 1s/step - accuracy: 0.7536 - loss: 0.6084 - val_accuracy: 0.4672 - val_loss: 2.3568 - learning_rate: 5.0000e-04\n",
            "Epoch 10/15\n",
            "\u001b[1m665/665\u001b[0m \u001b[32m━━━━━━━━━━━━━━━━━━━━\u001b[0m\u001b[37m\u001b[0m \u001b[1m0s\u001b[0m 1s/step - accuracy: 0.7896 - loss: 0.5285\n",
            "Epoch 10: ReduceLROnPlateau reducing learning rate to 0.0002500000118743628.\n",
            "\u001b[1m665/665\u001b[0m \u001b[32m━━━━━━━━━━━━━━━━━━━━\u001b[0m\u001b[37m\u001b[0m \u001b[1m825s\u001b[0m 1s/step - accuracy: 0.7896 - loss: 0.5285 - val_accuracy: 0.4485 - val_loss: 2.5299 - learning_rate: 5.0000e-04\n",
            "Epoch 10: early stopping\n",
            "Restoring model weights from the end of the best epoch: 4.\n",
            "Training completed!\n"
          ]
        }
      ]
    },
    {
      "cell_type": "code",
      "source": [
        "def comprehensive_evaluate(model, X_val, y_val, history):\n",
        "    print(\"\\n\" + \"=\"*60)\n",
        "    print(\"COMPREHENSIVE EVALUATION\")\n",
        "    print(\"=\"*60)\n",
        "\n",
        "    y_pred_proba = model.predict(X_val, batch_size=128, verbose=0)\n",
        "    y_pred = np.argmax(y_pred_proba, axis=1)\n",
        "\n",
        "    accuracy = np.mean(y_pred == y_val)\n",
        "    f1_micro = f1_score(y_val, y_pred, average='micro')\n",
        "    f1_macro = f1_score(y_val, y_pred, average='macro')\n",
        "    f1_weighted = f1_score(y_val, y_pred, average='weighted')\n",
        "\n",
        "    print(f\"Validation Accuracy: {accuracy:.4f}\")\n",
        "    print(f\"Validation F1-Score (Micro): {f1_micro:.4f}\")\n",
        "    print(f\"Validation F1-Score (Macro): {f1_macro:.4f}\")\n",
        "    print(f\"Validation F1-Score (Weighted): {f1_weighted:.4f}\")\n",
        "\n",
        "    print(\"\\nDetailed Classification Report:\")\n",
        "    print(classification_report(y_val, y_pred, target_names=['1', '2', '3', '4', '5']))\n",
        "\n",
        "    cm = confusion_matrix(y_val, y_pred)\n",
        "    print(\"Confusion Matrix:\")\n",
        "    print(cm)\n",
        "\n",
        "    # نمودارهای یادگیری\n",
        "    plt.figure(figsize=(15, 5))\n",
        "\n",
        "    plt.subplot(1, 2, 1)\n",
        "    plt.plot(history.history['accuracy'], 'b-', label='Training Accuracy', linewidth=2)\n",
        "    plt.plot(history.history['val_accuracy'], 'r-', label='Validation Accuracy', linewidth=2)\n",
        "    plt.title('Model Accuracy')\n",
        "    plt.xlabel('Epoch')\n",
        "    plt.ylabel('Accuracy')\n",
        "    plt.legend()\n",
        "    plt.grid(True, alpha=0.3)\n",
        "\n",
        "    plt.subplot(1, 2, 2)\n",
        "    plt.plot(history.history['loss'], 'b-', label='Training Loss', linewidth=2)\n",
        "    plt.plot(history.history['val_loss'], 'r-', label='Validation Loss', linewidth=2)\n",
        "    plt.title('Model Loss')\n",
        "    plt.xlabel('Epoch')\n",
        "    plt.ylabel('Loss')\n",
        "    plt.legend()\n",
        "    plt.grid(True, alpha=0.3)\n",
        "\n",
        "    plt.tight_layout()\n",
        "    plt.show()\n",
        "\n",
        "    return y_pred\n",
        "\n",
        "y_val_pred = comprehensive_evaluate(model, X_val, y_val, history)"
      ],
      "metadata": {
        "id": "YpfKhtjeiBU5",
        "colab": {
          "base_uri": "https://localhost:8080/",
          "height": 1000
        },
        "outputId": "e5b5442c-ec0e-49a2-e17f-408de7ac4fc5"
      },
      "execution_count": null,
      "outputs": [
        {
          "output_type": "stream",
          "name": "stdout",
          "text": [
            "\n",
            "============================================================\n",
            "COMPREHENSIVE EVALUATION\n",
            "============================================================\n",
            "Validation Accuracy: 0.4827\n",
            "Validation F1-Score (Micro): 0.4827\n",
            "Validation F1-Score (Macro): 0.4677\n",
            "Validation F1-Score (Weighted): 0.4677\n",
            "\n",
            "Detailed Classification Report:\n",
            "              precision    recall  f1-score   support\n",
            "\n",
            "           1       0.56      0.76      0.65       375\n",
            "           2       0.36      0.31      0.34       375\n",
            "           3       0.39      0.25      0.30       375\n",
            "           4       0.39      0.42      0.41       375\n",
            "           5       0.62      0.66      0.64       375\n",
            "\n",
            "    accuracy                           0.48      1875\n",
            "   macro avg       0.47      0.48      0.47      1875\n",
            "weighted avg       0.47      0.48      0.47      1875\n",
            "\n",
            "Confusion Matrix:\n",
            "[[286  61   7   9  12]\n",
            " [148 118  56  34  19]\n",
            " [ 46  93  93 125  18]\n",
            " [ 14  36  64 159 102]\n",
            " [ 16  18  16  76 249]]\n"
          ]
        },
        {
          "output_type": "display_data",
          "data": {
            "text/plain": [
              "<Figure size 1500x500 with 2 Axes>"
            ],
            "image/png": "[encoded data removed]"
          },
          "metadata": {}
        }
      ]
    },
    {
      "cell_type": "code",
      "source": [
        "def generate_predictions(model, X_test):\n",
        "    print(\"Generating predictions...\")\n",
        "    test_pred_proba = model.predict(X_test, batch_size=128, verbose=1)\n",
        "    test_pred = np.argmax(test_pred_proba, axis=1) + 1\n",
        "    return test_pred\n",
        "\n",
        "test_predictions = generate_predictions(model, X_test)\n",
        "\n",
        "print(\"\\nPrediction distribution:\")\n",
        "unique, counts = np.unique(test_predictions, return_counts=True)\n",
        "for rating, count in zip(unique, counts):\n",
        "    percentage = (count / len(test_predictions)) * 100\n",
        "    print(f\"Rating {rating}: {count:6d} samples ({percentage:5.1f}%)\")\n",
        "\n",
        "submission_df = pd.DataFrame({'predicted': test_predictions})\n",
        "submission_df.to_csv(project_path + 'q2_submission.csv', index=False)\n",
        "\n",
        "print(f\"\\nSubmission file saved: q2_submission.csv\")\n",
        "print(\"First 10 predictions:\")\n",
        "print(submission_df.head(10))"
      ],
      "metadata": {
        "id": "pPi_OkCgiEfr",
        "colab": {
          "base_uri": "https://localhost:8080/"
        },
        "outputId": "80fabaff-368f-4fe1-91e2-ac84ce13f447"
      },
      "execution_count": null,
      "outputs": [
        {
          "output_type": "stream",
          "name": "stdout",
          "text": [
            "Generating predictions...\n",
            "\u001b[1m157/157\u001b[0m \u001b[32m━━━━━━━━━━━━━━━━━━━━\u001b[0m\u001b[37m\u001b[0m \u001b[1m126s\u001b[0m 797ms/step\n",
            "\n",
            "Prediction distribution:\n",
            "Rating 1:   3339 samples ( 16.7%)\n",
            "Rating 2:   3470 samples ( 17.3%)\n",
            "Rating 3:   3483 samples ( 17.4%)\n",
            "Rating 4:   5384 samples ( 26.9%)\n",
            "Rating 5:   4324 samples ( 21.6%)\n",
            "\n",
            "Submission file saved: q2_submission.csv\n",
            "First 10 predictions:\n",
            "   predicted\n",
            "0          2\n",
            "1          1\n",
            "2          1\n",
            "3          1\n",
            "4          1\n",
            "5          1\n",
            "6          1\n",
            "7          5\n",
            "8          2\n",
            "9          2\n"
          ]
        }
      ]
    }
  ],
  "metadata": {
    "colab": {
      "provenance": []
    },
    "kernelspec": {
      "display_name": "Python 3",
      "name": "python3"
    },
    "language_info": {
      "name": "python"
    }
  },
  "nbformat": 4,
  "nbformat_minor": 0
}