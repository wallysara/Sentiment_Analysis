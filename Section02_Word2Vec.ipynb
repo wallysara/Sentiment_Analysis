{
 "cells": [
  {
   "cell_type": "markdown",
   "id": "7bd51a30",
   "metadata": {},
   "source": [
    "## 1. Preparation"
   ]
  },
  {
   "cell_type": "code",
   "execution_count": null,
   "id": "65d36026",
   "metadata": {},
   "outputs": [],
   "source": [
    "import pandas as pd\n",
    "from warnings import filterwarnings\n",
    "import numpy as np\n",
    "filterwarnings(\"ignore\")\n",
    "from gensim.models import KeyedVectors\n",
    "from sklearn.metrics.pairwise import cosine_similarity\n",
    "from davood_ml_functions import *\n",
    "import numpy as np\n",
    "from symspellpy import SymSpell , Verbosity\n",
    "import textwrap"
   ]
  },
  {
   "cell_type": "code",
   "execution_count": 2,
   "id": "26a54340",
   "metadata": {},
   "outputs": [],
   "source": [
    "df = pd.read_csv(\"train_data_cleaned.csv\" , index_col = 0)[[\"y\" , \"asin\" , \"text\"]]"
   ]
  },
  {
   "cell_type": "code",
   "execution_count": 3,
   "id": "298e5e81",
   "metadata": {},
   "outputs": [
    {
     "data": {
      "text/html": [
       "<div>\n",
       "<style scoped>\n",
       "    .dataframe tbody tr th:only-of-type {\n",
       "        vertical-align: middle;\n",
       "    }\n",
       "\n",
       "    .dataframe tbody tr th {\n",
       "        vertical-align: top;\n",
       "    }\n",
       "\n",
       "    .dataframe thead th {\n",
       "        text-align: right;\n",
       "    }\n",
       "</style>\n",
       "<table border=\"1\" class=\"dataframe\">\n",
       "  <thead>\n",
       "    <tr style=\"text-align: right;\">\n",
       "      <th></th>\n",
       "      <th>y</th>\n",
       "      <th>asin</th>\n",
       "      <th>text</th>\n",
       "    </tr>\n",
       "  </thead>\n",
       "  <tbody>\n",
       "    <tr>\n",
       "      <th>0</th>\n",
       "      <td>2</td>\n",
       "      <td>0511189877</td>\n",
       "      <td>i have an older urc-wr7 remote and thought thi...</td>\n",
       "    </tr>\n",
       "    <tr>\n",
       "      <th>1</th>\n",
       "      <td>5</td>\n",
       "      <td>0511189877</td>\n",
       "      <td>first time i have ever had a remote that neede...</td>\n",
       "    </tr>\n",
       "    <tr>\n",
       "      <th>2</th>\n",
       "      <td>4</td>\n",
       "      <td>0511189877</td>\n",
       "      <td>got them and only 2 of them worked. company ca...</td>\n",
       "    </tr>\n",
       "    <tr>\n",
       "      <th>3</th>\n",
       "      <td>5</td>\n",
       "      <td>0511189877</td>\n",
       "      <td>i got tired of the remote being on the wrong s...</td>\n",
       "    </tr>\n",
       "    <tr>\n",
       "      <th>4</th>\n",
       "      <td>5</td>\n",
       "      <td>0594459451</td>\n",
       "      <td>after purchasing cheap cords from another webs...</td>\n",
       "    </tr>\n",
       "  </tbody>\n",
       "</table>\n",
       "</div>"
      ],
      "text/plain": [
       "   y        asin                                               text\n",
       "0  2  0511189877  i have an older urc-wr7 remote and thought thi...\n",
       "1  5  0511189877  first time i have ever had a remote that neede...\n",
       "2  4  0511189877  got them and only 2 of them worked. company ca...\n",
       "3  5  0511189877  i got tired of the remote being on the wrong s...\n",
       "4  5  0594459451  after purchasing cheap cords from another webs..."
      ]
     },
     "execution_count": 3,
     "metadata": {},
     "output_type": "execute_result"
    }
   ],
   "source": [
    "df.head(5)"
   ]
  },
  {
   "cell_type": "markdown",
   "id": "323d5cb6",
   "metadata": {},
   "source": [
    "## 2. Correct Missplllings"
   ]
  },
  {
   "cell_type": "code",
   "execution_count": 4,
   "id": "823baba7",
   "metadata": {},
   "outputs": [
    {
     "data": {
      "text/plain": [
       "True"
      ]
     },
     "execution_count": 4,
     "metadata": {},
     "output_type": "execute_result"
    }
   ],
   "source": [
    "sym_spell = SymSpell(max_dictionary_edit_distance = 2 , prefix_length = 7)\n",
    "sym_spell.load_dictionary(\"frequency_dictionary_en_82_765.txt\" , term_index = 0 , count_index = 1)"
   ]
  },
  {
   "cell_type": "code",
   "execution_count": 5,
   "id": "de595dde",
   "metadata": {},
   "outputs": [],
   "source": [
    "def correct_text(text):\n",
    "    if not isinstance(text , str):\n",
    "        return \"\"\n",
    "    words = text.split()\n",
    "    corrected = []\n",
    "    for w in words:\n",
    "        suggestions = sym_spell.lookup(w , Verbosity.CLOSEST , max_edit_distance = 2)\n",
    "        corrected.append(suggestions[0].term if suggestions else w)\n",
    "    return \" \".join(corrected)"
   ]
  },
  {
   "cell_type": "code",
   "execution_count": 21,
   "id": "d9ae874d",
   "metadata": {},
   "outputs": [],
   "source": [
    "df[\"text\"] = df[\"text\"].apply(correct_text)"
   ]
  },
  {
   "cell_type": "markdown",
   "id": "75620196",
   "metadata": {},
   "source": [
    "## 3. Load a Word2Vec Model"
   ]
  },
  {
   "cell_type": "code",
   "execution_count": 22,
   "id": "905f971a",
   "metadata": {},
   "outputs": [],
   "source": [
    "# Link to vectors:\n",
    "# https://figshare.com/ndownloader/files/41403483"
   ]
  },
  {
   "cell_type": "code",
   "execution_count": 23,
   "id": "dbb12444",
   "metadata": {},
   "outputs": [],
   "source": [
    "model = KeyedVectors.load_word2vec_format(\n",
    "    \"GoogleNews-vectors-negative300.bin\",\n",
    "    binary = True\n",
    ")"
   ]
  },
  {
   "cell_type": "code",
   "execution_count": 24,
   "id": "842680d0",
   "metadata": {},
   "outputs": [],
   "source": [
    "def get_comment_vector(text, model):\n",
    "    tokens = text.split()\n",
    "    vectors = [model[w] for w in tokens if w in model]\n",
    "    return np.mean(vectors, axis=0) if vectors else np.zeros(model.vector_size)"
   ]
  },
  {
   "cell_type": "markdown",
   "id": "58bdf640",
   "metadata": {},
   "source": [
    "## 4. Find Similar Keywords"
   ]
  },
  {
   "cell_type": "code",
   "execution_count": 26,
   "id": "5053e556",
   "metadata": {},
   "outputs": [],
   "source": [
    "keywords = [\"guarantee\", \"warranty\", \"warrenty\", \"guarentee\", \"assurance\", \"refund\", \"replacement\"]"
   ]
  },
  {
   "cell_type": "code",
   "execution_count": 27,
   "id": "061ea3c0",
   "metadata": {},
   "outputs": [],
   "source": [
    "def get_similar_words(words , model , topn = 5):\n",
    "    similar = set(words)\n",
    "    for w in words:\n",
    "        if w in model.key_to_index:\n",
    "            similar.update([x for x , _ in model.most_similar(w , topn = topn)])\n",
    "    return list(similar)"
   ]
  },
  {
   "cell_type": "code",
   "execution_count": 13,
   "id": "f0ba8f52",
   "metadata": {},
   "outputs": [],
   "source": [
    "related_words = get_similar_words(keywords , model)\n",
    "related_words = [s.lower().replace(\"_\" , \" \") for s in related_words]\n",
    "\n",
    "to_remove = [\"tmo\" , \"is'nt\" , \"developments affecting siaf\" , \"dont\" , \"macbook pro\"]\n",
    "for S in to_remove:\n",
    "    related_words.remove(S)\n",
    "    \n",
    "related_words = list(set(related_words))"
   ]
  },
  {
   "cell_type": "code",
   "execution_count": 28,
   "id": "cc9e647b",
   "metadata": {},
   "outputs": [
    {
     "name": "stdout",
     "output_type": "stream",
     "text": [
      "guarenteed , replacing , limited warranty , replacment ,\n",
      "replacement , reassurances , assure , assurances ,\n",
      "warranties , guarantees , replacements , warranty ,\n",
      "gaurantee , refund , guaranteeing , assurance , guaranteed ,\n",
      "refunds , guarentee , warrantee , rebate , replace ,\n",
      "lifetime warranty , guarantee , gurantee , applecare ,\n",
      "warrenty , refunded\n"
     ]
    }
   ],
   "source": [
    "print(textwrap.fill(\" , \".join(related_words), width = 60))"
   ]
  },
  {
   "cell_type": "markdown",
   "id": "2312d78a",
   "metadata": {},
   "source": [
    "## 5. Select Comments Containing Keywords"
   ]
  },
  {
   "cell_type": "code",
   "execution_count": 29,
   "id": "7787fcbe",
   "metadata": {},
   "outputs": [],
   "source": [
    "df[\"related\"] = df[\"text\"].apply(lambda x: int(any(word in str(x) for word in related_words)))"
   ]
  },
  {
   "cell_type": "code",
   "execution_count": 30,
   "id": "40fceffd",
   "metadata": {},
   "outputs": [],
   "source": [
    "df = df.loc[df[\"related\"] == 1]\n",
    "df = df.drop(columns = [\"related\"])"
   ]
  },
  {
   "cell_type": "code",
   "execution_count": 31,
   "id": "29f2f8d2",
   "metadata": {},
   "outputs": [
    {
     "name": "stdout",
     "output_type": "stream",
     "text": [
      "the xii series is corsairs flagship side the sad market is\n",
      "pretty crowded but this sad delivers solid performance at a\n",
      "fair price with a year warranty i am using it for gaming and\n",
      "i am happy with it\n"
     ]
    }
   ],
   "source": [
    "t1 = df.loc[838891 , \"text\"]\n",
    "print(textwrap.fill(t1 , width = 60))"
   ]
  },
  {
   "cell_type": "code",
   "execution_count": 32,
   "id": "7e8f1e04",
   "metadata": {},
   "outputs": [
    {
     "name": "stdout",
     "output_type": "stream",
     "text": [
      "i was only able to use it just one time every time i tried\n",
      "to use it again my var shut off no matter how many times i\n",
      "tried to get it to clean my var shut off and the var it only\n",
      "six months old i am going to try and return it and see if\n",
      "the company will replace it\n"
     ]
    }
   ],
   "source": [
    "t2 = df.loc[159 , \"text\"]\n",
    "print(textwrap.fill(t2 , width = 60))"
   ]
  },
  {
   "cell_type": "markdown",
   "id": "bac58183",
   "metadata": {},
   "source": [
    "## 6. Find Most Popular Products and Brands"
   ]
  },
  {
   "cell_type": "code",
   "execution_count": 33,
   "id": "64c43669",
   "metadata": {},
   "outputs": [],
   "source": [
    "title = pd.read_csv(\"title_brand.csv\" , index_col = 0)"
   ]
  },
  {
   "cell_type": "code",
   "execution_count": null,
   "id": "ea41d915",
   "metadata": {},
   "outputs": [
    {
     "data": {
      "text/html": [
       "<div>\n",
       "<style scoped>\n",
       "    .dataframe tbody tr th:only-of-type {\n",
       "        vertical-align: middle;\n",
       "    }\n",
       "\n",
       "    .dataframe tbody tr th {\n",
       "        vertical-align: top;\n",
       "    }\n",
       "\n",
       "    .dataframe thead th {\n",
       "        text-align: right;\n",
       "    }\n",
       "</style>\n",
       "<table border=\"1\" class=\"dataframe\">\n",
       "  <thead>\n",
       "    <tr style=\"text-align: right;\">\n",
       "      <th></th>\n",
       "      <th>Product Name</th>\n",
       "      <th>Number of Votes</th>\n",
       "      <th>Average Score</th>\n",
       "    </tr>\n",
       "    <tr>\n",
       "      <th>asin</th>\n",
       "      <th></th>\n",
       "      <th></th>\n",
       "      <th></th>\n",
       "    </tr>\n",
       "  </thead>\n",
       "  <tbody>\n",
       "    <tr>\n",
       "      <th>B00OBRE5UE</th>\n",
       "      <td>Samsung 850 EVO 500GB 2.5-Inch SATA III Internal SSD (MZ-75E500B/AM)</td>\n",
       "      <td>156</td>\n",
       "      <td>4.65</td>\n",
       "    </tr>\n",
       "    <tr>\n",
       "      <th>B0043T7FXE</th>\n",
       "      <td>Logitech M570 Wireless Trackball Mouse &amp;ndash; Ergonomic Design with Sculpted Right-hand Shape, Compatible with Apple Mac and Microsoft Windows Computers, USB Unifying Receiver, Dark Gray</td>\n",
       "      <td>136</td>\n",
       "      <td>4.18</td>\n",
       "    </tr>\n",
       "    <tr>\n",
       "      <th>B00DSUTX3O</th>\n",
       "      <td>WD Black 750GB Performance Mobile Hard Disk Drive - 7200 RPM SATA 6 Gb/s 16MB Cache 9.5 MM 2.5 Inch - WD7500BPKX</td>\n",
       "      <td>101</td>\n",
       "      <td>4.17</td>\n",
       "    </tr>\n",
       "    <tr>\n",
       "      <th>B0000BVYT3</th>\n",
       "      <td>NETGEAR 5-Port Gigabit Ethernet Unmanaged Switch, Sturdy Metal, Desktop, Plug-and-Play, ProSAFE Lifetime Protection (GS105NA)</td>\n",
       "      <td>120</td>\n",
       "      <td>3.95</td>\n",
       "    </tr>\n",
       "    <tr>\n",
       "      <th>B004OVECU0</th>\n",
       "      <td>Logitech Harmony 650 Infrared All in One Remote Control, Universal Remote Logitech, Programmable Remote (Silver)</td>\n",
       "      <td>121</td>\n",
       "      <td>3.94</td>\n",
       "    </tr>\n",
       "    <tr>\n",
       "      <th>B010OYASRG</th>\n",
       "      <td>OontZ Angle 3 Enhanced Stereo Edition IPX5 Splashproof Portable Bluetooth Speaker with Volume Booster AMP 10 Watts Power, Custom Bass Radiator, 100' Wireless Range Bluetooth 4.2</td>\n",
       "      <td>133</td>\n",
       "      <td>3.65</td>\n",
       "    </tr>\n",
       "    <tr>\n",
       "      <th>B0001FTVEK</th>\n",
       "      <td>Sennheiser RS120 On-Ear Wireless RF Headphones with Charging Dock</td>\n",
       "      <td>126</td>\n",
       "      <td>3.60</td>\n",
       "    </tr>\n",
       "    <tr>\n",
       "      <th>B00BUSDVBQ</th>\n",
       "      <td>TP-Link AC1750 Smart WiFi Router - Dual Band Gigabit Wireless Router, 802.11ac Internet Router, Wireless routers for home(Archer C7)</td>\n",
       "      <td>149</td>\n",
       "      <td>3.60</td>\n",
       "    </tr>\n",
       "    <tr>\n",
       "      <th>B01DA0YCNC</th>\n",
       "      <td>Roku Streaming Stick (3600R) - HD Streaming Player with Quad-Core Processor</td>\n",
       "      <td>104</td>\n",
       "      <td>3.49</td>\n",
       "    </tr>\n",
       "    <tr>\n",
       "      <th>B00S9SGNNS</th>\n",
       "      <td>ASUS Tri-Band Gigabit (AC3200) WiFi Router (Up to 3167 Mbps) with MU-MIMO to ensure Lag-Free Gaming, AiProtection network security powered by Trend Micro, Adaptive QoS and Parental Control (RT-AC3200)</td>\n",
       "      <td>172</td>\n",
       "      <td>3.32</td>\n",
       "    </tr>\n",
       "  </tbody>\n",
       "</table>\n",
       "</div>"
      ],
      "text/plain": [
       "                                                                                                                                                                                                        Product Name  \\\n",
       "asin                                                                                                                                                                                                                   \n",
       "B00OBRE5UE                                                                                                                                      Samsung 850 EVO 500GB 2.5-Inch SATA III Internal SSD (MZ-75E500B/AM)   \n",
       "B0043T7FXE               Logitech M570 Wireless Trackball Mouse &ndash; Ergonomic Design with Sculpted Right-hand Shape, Compatible with Apple Mac and Microsoft Windows Computers, USB Unifying Receiver, Dark Gray   \n",
       "B00DSUTX3O                                                                                          WD Black 750GB Performance Mobile Hard Disk Drive - 7200 RPM SATA 6 Gb/s 16MB Cache 9.5 MM 2.5 Inch - WD7500BPKX   \n",
       "B0000BVYT3                                                                             NETGEAR 5-Port Gigabit Ethernet Unmanaged Switch, Sturdy Metal, Desktop, Plug-and-Play, ProSAFE Lifetime Protection (GS105NA)   \n",
       "B004OVECU0                                                                                          Logitech Harmony 650 Infrared All in One Remote Control, Universal Remote Logitech, Programmable Remote (Silver)   \n",
       "B010OYASRG                         OontZ Angle 3 Enhanced Stereo Edition IPX5 Splashproof Portable Bluetooth Speaker with Volume Booster AMP 10 Watts Power, Custom Bass Radiator, 100' Wireless Range Bluetooth 4.2   \n",
       "B0001FTVEK                                                                                                                                         Sennheiser RS120 On-Ear Wireless RF Headphones with Charging Dock   \n",
       "B00BUSDVBQ                                                                      TP-Link AC1750 Smart WiFi Router - Dual Band Gigabit Wireless Router, 802.11ac Internet Router, Wireless routers for home(Archer C7)   \n",
       "B01DA0YCNC                                                                                                                               Roku Streaming Stick (3600R) - HD Streaming Player with Quad-Core Processor   \n",
       "B00S9SGNNS  ASUS Tri-Band Gigabit (AC3200) WiFi Router (Up to 3167 Mbps) with MU-MIMO to ensure Lag-Free Gaming, AiProtection network security powered by Trend Micro, Adaptive QoS and Parental Control (RT-AC3200)   \n",
       "\n",
       "            Number of Votes  Average Score  \n",
       "asin                                        \n",
       "B00OBRE5UE              156           4.65  \n",
       "B0043T7FXE              136           4.18  \n",
       "B00DSUTX3O              101           4.17  \n",
       "B0000BVYT3              120           3.95  \n",
       "B004OVECU0              121           3.94  \n",
       "B010OYASRG              133           3.65  \n",
       "B0001FTVEK              126           3.60  \n",
       "B00BUSDVBQ              149           3.60  \n",
       "B01DA0YCNC              104           3.49  \n",
       "B00S9SGNNS              172           3.32  "
      ]
     },
     "execution_count": 91,
     "metadata": {},
     "output_type": "execute_result"
    }
   ],
   "source": [
    "pd.set_option(\"display.max_colwidth\", None)\n",
    "r1 = pd.merge(\n",
    "    left = df,\n",
    "    right = title[[\"title\"]],\n",
    "    on = \"asin\",\n",
    "    how = \"left\"\n",
    ")\n",
    "r1 = r1.groupby([\"asin\", \"title\"])[[\"y\"]].agg(count = (\"y\", \"count\"), mean = (\"y\", \"mean\"))\n",
    "r1.columns = [\"Number of Votes\", \"Average Score\"]\n",
    "r1 = r1.loc[r1[\"Number of Votes\"] > 100]\n",
    "r1[\"Average Score\"] = r1[\"Average Score\"].round(2)\n",
    "r1 = r1.sort_values(by = \"Average Score\", ascending = False)\n",
    "r1 = r1.reset_index().rename(columns = {\"title\": \"Product Name\"})[[\"asin\", \"Product Name\", \"Number of Votes\", \"Average Score\"]].set_index(\"asin\")\n",
    "r1"
   ]
  },
  {
   "cell_type": "code",
   "execution_count": 92,
   "id": "5be70a05",
   "metadata": {},
   "outputs": [
    {
     "data": {
      "text/html": [
       "<div>\n",
       "<style scoped>\n",
       "    .dataframe tbody tr th:only-of-type {\n",
       "        vertical-align: middle;\n",
       "    }\n",
       "\n",
       "    .dataframe tbody tr th {\n",
       "        vertical-align: top;\n",
       "    }\n",
       "\n",
       "    .dataframe thead th {\n",
       "        text-align: right;\n",
       "    }\n",
       "</style>\n",
       "<table border=\"1\" class=\"dataframe\">\n",
       "  <thead>\n",
       "    <tr style=\"text-align: right;\">\n",
       "      <th></th>\n",
       "      <th>Number of Votes</th>\n",
       "      <th>Average Score</th>\n",
       "    </tr>\n",
       "    <tr>\n",
       "      <th>Brand Name</th>\n",
       "      <th></th>\n",
       "      <th></th>\n",
       "    </tr>\n",
       "  </thead>\n",
       "  <tbody>\n",
       "    <tr>\n",
       "      <th>Noctua</th>\n",
       "      <td>350</td>\n",
       "      <td>4.76</td>\n",
       "    </tr>\n",
       "    <tr>\n",
       "      <th>The Friendly Swede</th>\n",
       "      <td>156</td>\n",
       "      <td>4.56</td>\n",
       "    </tr>\n",
       "    <tr>\n",
       "      <th>It is</th>\n",
       "      <td>151</td>\n",
       "      <td>4.50</td>\n",
       "    </tr>\n",
       "    <tr>\n",
       "      <th>MEKO</th>\n",
       "      <td>126</td>\n",
       "      <td>4.50</td>\n",
       "    </tr>\n",
       "    <tr>\n",
       "      <th>Syncwire</th>\n",
       "      <td>109</td>\n",
       "      <td>4.44</td>\n",
       "    </tr>\n",
       "    <tr>\n",
       "      <th>AMD</th>\n",
       "      <td>102</td>\n",
       "      <td>4.41</td>\n",
       "    </tr>\n",
       "    <tr>\n",
       "      <th>Bargains Depot</th>\n",
       "      <td>148</td>\n",
       "      <td>4.41</td>\n",
       "    </tr>\n",
       "    <tr>\n",
       "      <th>Crucial</th>\n",
       "      <td>302</td>\n",
       "      <td>4.39</td>\n",
       "    </tr>\n",
       "    <tr>\n",
       "      <th>Geekria</th>\n",
       "      <td>115</td>\n",
       "      <td>4.38</td>\n",
       "    </tr>\n",
       "    <tr>\n",
       "      <th>Powerextra</th>\n",
       "      <td>105</td>\n",
       "      <td>4.32</td>\n",
       "    </tr>\n",
       "  </tbody>\n",
       "</table>\n",
       "</div>"
      ],
      "text/plain": [
       "                    Number of Votes  Average Score\n",
       "Brand Name                                        \n",
       "Noctua                          350           4.76\n",
       "The Friendly Swede              156           4.56\n",
       "It is                           151           4.50\n",
       "MEKO                            126           4.50\n",
       "Syncwire                        109           4.44\n",
       "AMD                             102           4.41\n",
       "Bargains Depot                  148           4.41\n",
       "Crucial                         302           4.39\n",
       "Geekria                         115           4.38\n",
       "Powerextra                      105           4.32"
      ]
     },
     "execution_count": 92,
     "metadata": {},
     "output_type": "execute_result"
    }
   ],
   "source": [
    "r2 = pd.merge(\n",
    "    left=df,\n",
    "    right=title[[\"brand\"]],\n",
    "    on=\"asin\",\n",
    "    how=\"left\"\n",
    ")\n",
    "r2 = r2.groupby(\"brand\")[[\"y\"]].agg(count=('y', 'count'), mean=('y', 'mean'))\n",
    "r2.columns = [\"Number of Votes\", \"Average Score\"]\n",
    "r2 = r2.sort_values(by=\"Average Score\", ascending=False)\n",
    "r2 = r2.loc[r2[\"Number of Votes\"] > 100]\n",
    "r2[\"Average Score\"] = r2[\"Average Score\"].round(2)\n",
    "r2.index.name = \"Brand Name\"\n",
    "r2.head(10)"
   ]
  },
  {
   "cell_type": "code",
   "execution_count": 94,
   "id": "a273b1b9",
   "metadata": {},
   "outputs": [],
   "source": [
    "df.to_csv(\"selected_comments.csv\")"
   ]
  }
 ],
 "metadata": {
  "kernelspec": {
   "display_name": "venv-3.13.3",
   "language": "python",
   "name": "python3"
  },
  "language_info": {
   "codemirror_mode": {
    "name": "ipython",
    "version": 3
   },
   "file_extension": ".py",
   "mimetype": "text/x-python",
   "name": "python",
   "nbconvert_exporter": "python",
   "pygments_lexer": "ipython3",
   "version": "3.13.3"
  }
 },
 "nbformat": 4,
 "nbformat_minor": 5
}
