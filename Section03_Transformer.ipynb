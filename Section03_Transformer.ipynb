{
  "cells": [
    {
      "cell_type": "markdown",
      "source": [
        "<div dir=\"rtl\">\n",
        "\n",
        "- [ ] **هدف (Goal):** ساخت مدلی برای پیش‌بینی امتیاز `overall` (از ۱ تا ۵).\n",
        "- [ ] **ورودی‌ها (Inputs):** استفاده از `reviewText` (متن نظر) و `summaryText` (خلاصه نظر).\n",
        "- [ ] **محدودیت اصلی (Main Constraint):** در صورت استفاده از مدل‌های پیش‌آموخته (pre-trained)، **باید** آن‌ها را Fine-tune کنید.\n",
        "- [ ] **نیازمندی تیمی (Team Requirement):** تمام اعضای گروه باید الگوریتم و پیاده‌سازی آن را به طور کامل درک کرده باشند (مخصوصاً اگر از مدل‌های پیچیده‌ای مثل ترنسفورمرها استفاده می‌کنید).\n",
        "\n",
        "</div>"
      ],
      "metadata": {
        "id": "PZjqzzk6PU3P"
      }
    },
    {
      "cell_type": "code",
      "execution_count": 1,
      "metadata": {
        "colab": {
          "base_uri": "https://localhost:8080/"
        },
        "id": "FyuoDuPFQ4jx",
        "outputId": "2eae881d-edbd-4026-e6b3-f63248773b4e"
      },
      "outputs": [
        {
          "output_type": "stream",
          "name": "stdout",
          "text": [
            "Mounted at /content/drive\n"
          ]
        }
      ],
      "source": [
        "from google.colab import drive\n",
        "drive.mount('/content/drive')"
      ]
    },
    {
      "cell_type": "markdown",
      "source": [
        "<div dir=\"rtl\">\n",
        "\n",
        "این دستور، جعبه ابزار کامل برای **بارگذاری مدل** (`transformers`)، **بهینه‌سازی آموزش** (`accelerate` و `datasets`) و **ارزیابی نتایج** (`scikit-learn`) را نصب می‌کند."
      ],
      "metadata": {
        "id": "WyD3dX4KQk9q"
      }
    },
    {
      "cell_type": "code",
      "execution_count": 2,
      "metadata": {
        "id": "Wsq7QXCeoNxQ"
      },
      "outputs": [],
      "source": [
        "!pip install -q transformers accelerate datasets scikit-learn\n"
      ]
    },
    {
      "cell_type": "markdown",
      "source": [
        "<div dir=\"rtl\">\n",
        "\n",
        "import torch:\n",
        "\n",
        "کتابخانه اصلی یادگیری عمیق (پای‌تورچ). تمام محاسبات مدل، بهینه‌ساز و تابع خطا بر عهده این کتابخانه است.\n",
        "\n",
        "from torch.utils.data import Dataset, DataLoader:\n",
        "\n",
        "این دو کلاس برای مدیریت داده‌ها حیاتی هستند. Dataset داده‌های شما را به فرمت قابل فهم برای پایتورچ در می‌آورد و DataLoader آن‌ها را به صورت دسته‌ای (batch) و بهینه به مدل می‌فرستد.\n",
        "\n",
        "from torch.optim import AdamW:\n",
        "\n",
        "بهینه‌ساز (Optimizer) محبوبی که به طور خاص برای مدل‌های ترنسفورمر بهینه شده است. وظیفه آن آپدیت کردن وزن‌های مدل بر اساس خطای محاسبه شده است.\n",
        "\n",
        "import pandas as pd و import numpy as np:\n",
        "\n",
        "pandas برای خواندن و کار با فایل‌های CSV و numpy برای کار با آرایه‌های عددی (که پایتورچ به آن نیاز دارد) استفاده می‌شود.\n",
        "\n",
        "from sklearn. ...:\n",
        "\n",
        "این مجموعه ابزار scikit-learn است که برای ارزیابی مدل استفاده می‌شود:\n",
        "\n",
        "train_test_split: برای تقسیم داده‌ها به بخش آموزش و اعتبارسنجی.\n",
        "\n",
        "classification_report و f1_score: برای محاسبه معیارهای دقت، ریکال و F1 جهت ارزیابی نهایی مدل.\n",
        "\n",
        "compute_class_weight: (بسیار مهم) برای حل مشکل عدم توازن داده‌ها (مثلاً تعداد کم نظرات ۱ ستاره در مقابل ۵ ستاره).\n",
        "\n",
        "from transformers. ...:\n",
        "\n",
        "قلب پروژه شما (کتابخانه Hugging Face).\n",
        "\n",
        "AutoTokenizer: مسئول تبدیل جملات متنی به اعداد (توکن) که مدل می‌فهمد.\n",
        "\n",
        "AutoModelForSequenceClassification: کلاس اصلی که مدل پیش‌آموخته (مثل RoBERTa) را به همراه یک لایه دسته‌بندی (برای پیش‌بینی ۱ تا ۵ ستاره) در بالای آن بارگذاری می‌کند.\n",
        "\n",
        "get_scheduler: برای تنظیم هوشمندانه نرخ یادگیری (Learning Rate) در طول فرآیند آموزش.\n",
        "\n",
        "</div>"
      ],
      "metadata": {
        "id": "UY9hzue8RPT8"
      }
    },
    {
      "cell_type": "code",
      "source": [
        "import os\n",
        "import random\n",
        "import warnings\n",
        "\n",
        "import numpy as np\n",
        "import pandas as pd\n",
        "import torch\n",
        "from torch.nn.utils import clip_grad_norm_\n",
        "from torch.optim import AdamW\n",
        "from torch.utils.data import Dataset, DataLoader\n",
        "\n",
        "from sklearn.metrics import (classification_report, confusion_matrix,\n",
        "                             f1_score)\n",
        "from sklearn.model_selection import train_test_split\n",
        "from sklearn.utils.class_weight import compute_class_weight\n",
        "\n",
        "from transformers import (AutoModelForSequenceClassification, AutoTokenizer,\n",
        "                          DataCollatorWithPadding, get_linear_schedule_with_warmup,\n",
        "                          get_scheduler)\n",
        "\n",
        "warnings.filterwarnings(\"ignore\")"
      ],
      "metadata": {
        "id": "mvp2N0Z97rpn"
      },
      "execution_count": 3,
      "outputs": []
    },
    {
      "cell_type": "markdown",
      "source": [
        "<div dir=\"rtl\">\n",
        "\n",
        "MODEL_NAME = 'roberta-large':\n",
        "\n",
        "شما مدل roberta-large را انتخاب کرده‌اید که یک مدل بسیار قدرتمند و بزرگ برای درک زبان است.\n",
        "\n",
        "MAX_LENGTH = 256:\n",
        "\n",
        "حداکثر طولی (بر حسب توکن) که هر نظر می‌تواند داشته باشد. متن‌های بلندتر از این مقدار، کوتاه (truncate) خواهند شد.\n",
        "\n",
        "NUM_LABELS = 5:\n",
        "\n",
        "تعداد کلاس‌های خروجی. در اینجا ۵ کلاس (برای امتیاز ۱ تا ۵) است.\n",
        "\n",
        "BATCH_SIZE = 8:\n",
        "\n",
        "تعداد نمونه‌هایی که در هر مرحله از آموزش به مدل داده می‌شود. (این بچ سایز نسبت به کد قبلی که 4 بود، بزرگتر شده است).\n",
        "\n",
        "NUM_EPOCHS = 4:\n",
        "\n",
        "تعداد کل دفعاتی که مدل تمام داده‌های آموزشی را مرور خواهد کرد.\n",
        "\n",
        "LEARNING_RATE = 1e-5:\n",
        "\n",
        "نرخ یادگیری. یک مقدار استاندارد و خوب برای فاین-تیونینگ مدل‌های ترنسفورمر.\n",
        "\n",
        "SEED = 42:\n",
        "\n",
        "یک عدد ثابت برای اطمینان از اینکه نتایج شما (مانند تقسیم داده‌ها) قابل تکرار هستند.\n",
        "\n",
        "CLIP_GRAD_NORM = 1.0:\n",
        "\n",
        "مقداری برای \"بریده‌سازی گرادیان\" (Gradient Clipping) تا از مشکل انفجار گرادیان (exploding gradients) و ناپایدار شدن آموزش جلوگیری کند.\n",
        "\n",
        "File Paths:\n",
        "\n",
        "آدرس‌های دقیق فایل‌های داده ورودی (TRAIN_DATA_PATH, TEST_DATA_PATH) و فایل‌های خروجی (BEST_MODEL_PATH, SUBMISSION_FILE_PATH).\n",
        "\n",
        "</div>"
      ],
      "metadata": {
        "id": "gCQcz588RS_w"
      }
    },
    {
      "cell_type": "code",
      "source": [
        "# Model & Tokenizer\n",
        "MODEL_NAME = 'roberta-large'\n",
        "MAX_LENGTH = 256\n",
        "NUM_LABELS = 5\n",
        "\n",
        "# Training Hyperparameters\n",
        "BATCH_SIZE = 8\n",
        "NUM_EPOCHS = 4\n",
        "LEARNING_RATE = 1e-5\n",
        "SEED = 42\n",
        "CLIP_GRAD_NORM = 1.0\n",
        "\n",
        "# File Paths\n",
        "TRAIN_DATA_PATH = '/content/drive/MyDrive/Project2/train_data_cleaned.csv'\n",
        "TEST_DATA_PATH = '/content/drive/MyDrive/Project2/test_data_cleaned.csv'\n",
        "BEST_MODEL_PATH = 'best_roberta_large_model.bin'\n",
        "SUBMISSION_FILE_PATH = 'submission_final.csv'"
      ],
      "metadata": {
        "id": "1FL2i-8D7uxf"
      },
      "execution_count": 4,
      "outputs": []
    },
    {
      "cell_type": "markdown",
      "source": [
        "<div dir=\"rtl\">\n",
        "\n",
        "توضیح کلاس SentimentDataset\n",
        "این کلاس از کلاس Dataset خود پایتورچ ارث‌بری می‌کند و باید سه متد اصلی را پیاده‌سازی کند:\n",
        "\n",
        "۱. def __init__(self, ...) (متد سازنده)\n",
        "وظیفه: آماده‌سازی و ذخیره مواد اولیه.\n",
        "\n",
        "چه می‌کند: زمانی که شما این کلاس را ایجاد می‌کنید، این متد فراخوانی می‌شود و لیست تمام متن‌ها (texts)، لیست تمام لیبل‌ها (labels)، توکنایزر (tokenizer) و حداکثر طول (max_len) را به عنوان ورودی می‌گیرد و آن‌ها را در متغیرهای داخلی کلاس (مثل self.texts) ذخیره می‌کند تا بعداً بتواند از آن‌ها استفاده کند.\n",
        "\n",
        "۲. def __len__(self) (متد طول)\n",
        "وظیفه: گزارش تعداد کل نمونه‌ها.\n",
        "\n",
        "چه می‌کند: DataLoader پایتورچ این متد را صدا می‌زند تا بداند که کل دیتاست شما چند نمونه دارد. در اینجا، به سادگی تعداد متن‌ها (یا لیبل‌ها) را برمی‌گرداند.\n",
        "\n",
        "۳. def __getitem__(self, idx) (متد دریافت نمونه)\n",
        "وظیفه: آماده‌سازی و تحویل یک نمونه داده.\n",
        "\n",
        "چه می‌کند: این مهم‌ترین متد کلاس است. DataLoader این متد را برای هر نمونه (با دادن یک idx یا شماره ردیف) فراخوانی می‌کند.\n",
        "\n",
        "text = str(self.texts[idx]): متن مربوط به آن ردیف را برمی‌دارد.\n",
        "\n",
        "label = self.labels[idx]: لیبل (امتیاز) مربوط به همان ردیف را برمی‌دارد.\n",
        "\n",
        "encoding = self.tokenizer.encode_plus(...):\n",
        "\n",
        "اصل جادو اینجاست. توکنایزر متن خام را می‌گیرد و آن را به اعداد تبدیل می‌کند.\n",
        "\n",
        "padding='max_length': به متن‌هایی که کوتاه‌تر از max_len (یعنی ۲۵۶) هستند، توکن‌های [PAD] اضافه می‌کند تا هم‌اندازه شوند.\n",
        "\n",
        "truncation=True: متن‌های بلندتر از max_len را کوتاه (truncate) می‌کند.\n",
        "\n",
        "return_tensors='pt': خروجی را به صورت تنسورهای پایتورچ (pt) برمی‌گرداند.\n",
        "\n",
        "return { ... }: در نهایت، یک دیکشنری حاوی سه کلید اصلی که مدل به آن‌ها نیاز دارد را برمی‌گرداند:\n",
        "\n",
        "'input_ids': آرایه‌ای از اعداد (توکن‌ها) که نماینده متن هستند.\n",
        "\n",
        "'attention_mask': آرایه‌ای از 0 و 1 که به مدل می‌گوید به کدام توکن‌ها باید توجه کند (1) و کدام‌ها پدینگ هستند (0).\n",
        "\n",
        "'labels': لیبل (امتیاز) آن نمونه.\n",
        "\n",
        "</div>"
      ],
      "metadata": {
        "id": "DBjfd1H8SnLT"
      }
    },
    {
      "cell_type": "code",
      "source": [
        "class SentimentDataset(Dataset):\n",
        "    def __init__(self, texts, labels, tokenizer, max_len):\n",
        "        self.texts = texts\n",
        "        self.labels = labels\n",
        "        self.tokenizer = tokenizer\n",
        "        self.max_len = max_len\n",
        "\n",
        "    def __len__(self):\n",
        "        return len(self.texts)\n",
        "\n",
        "    def __getitem__(self, idx):\n",
        "        text = str(self.texts[idx])\n",
        "        label = self.labels[idx]\n",
        "        encoding = self.tokenizer.encode_plus(\n",
        "            text, add_special_tokens=True, max_length=self.max_len,\n",
        "            return_token_type_ids=False, padding='max_length',\n",
        "            truncation=True, return_attention_mask=True, return_tensors='pt',\n",
        "        )\n",
        "        return {\n",
        "            'input_ids': encoding['input_ids'].flatten(),\n",
        "            'attention_mask': encoding['attention_mask'].flatten(),\n",
        "            'labels': torch.tensor(label, dtype=torch.long)\n",
        "        }\n"
      ],
      "metadata": {
        "id": "CQeTM_kPLKOm"
      },
      "execution_count": 5,
      "outputs": []
    },
    {
      "cell_type": "markdown",
      "source": [
        "<div dir=\"rtl\">\n",
        "\n",
        "توضیح تابع create_data_loader\n",
        "این تابع یک \"کارخانه\" کوچک است که فرآیند آماده‌سازی داده‌ها برای آموزش را بسیار ساده می‌کند.\n",
        "\n",
        "وظیفه اصلی آن، تبدیل یک دیتافریم pandas (که خواندن آن برای انسان راحت است) به یک آبجکت DataLoader (که برای پایتورچ و GPU بهینه است) می‌باشد.\n",
        "\n",
        "این کار در دو مرحله انجام می‌شود:\n",
        "\n",
        "۱. ساخت SentimentDataset\n",
        "Python\n",
        "\n",
        "ds = SentimentDataset(...)\n",
        "ابتدا، کلاسی را که قبلاً تعریف کردیم (SentimentDataset) فراخوانی می‌کند.\n",
        "\n",
        "تمام متن‌ها و لیبل‌ها را از دیتافریم (df) به این کلاس می‌دهد.\n",
        "\n",
        "حالا ds یک آبجکت است که می‌داند چگونه تک تک ردیف‌های داده را به فرمت عددیِ قابل فهم برای مدل (یعنی input_ids, attention_mask, labels) تبدیل کند.\n",
        "\n",
        "۲. ساخت DataLoader\n",
        "Python\n",
        "\n",
        "return DataLoader(ds, ...)\n",
        "سپس، آبجکت ds (که داده‌های تکی را آماده می‌کند) به DataLoader داده می‌شود.\n",
        "\n",
        "DataLoader وظیفه دارد داده‌ها را از ds بگیرد و آن‌ها را به صورت دسته‌ای (Batch) سازماندهی کند.\n",
        "\n",
        "batch_size=batch_size: به آن می‌گوید که در هر دسته چند نمونه قرار دهد (مثلاً ۸ تا).\n",
        "\n",
        "shuffle=shuffle: مشخص می‌کند که آیا ترتیب داده‌ها باید بُر بخورد یا نه (که برای آموزش True و برای ارزیابی False است).\n",
        "\n",
        "num_workers=2: یک بهینه‌سازی مهم برای سرعت است. این دستور به پایتورچ می‌گوید که از ۲ پردازش جداگانه برای آماده‌سازی دسته‌ها در پس‌زمینه استفاده کند. این کار مانع از ایجاد گلوگاه (bottleneck) می‌شود و تضمین می‌کند که GPU همیشه داده برای پردازش داشته باشد.\n",
        "\n",
        "</div>"
      ],
      "metadata": {
        "id": "qukS-T8yTVZ2"
      }
    },
    {
      "cell_type": "code",
      "source": [
        "def create_data_loader(df, tokenizer, max_len, batch_size, shuffle=False):\n",
        "    ds = SentimentDataset(\n",
        "        texts=df.input_text.to_numpy(),\n",
        "        labels=df.label.to_numpy(),\n",
        "        tokenizer=tokenizer,\n",
        "        max_len=max_len\n",
        "    )\n",
        "    return DataLoader(ds, batch_size=batch_size, shuffle=shuffle, num_workers=2)\n"
      ],
      "metadata": {
        "id": "qrwmVCZANt21"
      },
      "execution_count": 6,
      "outputs": []
    },
    {
      "cell_type": "markdown",
      "source": [
        "<div dir=\"rtl\">\n",
        "\n",
        "بخش اول: آماده‌سازی محیط و بارگذاری داده‌ها\n",
        "این بخش با عبارت if __name__ == \"__main__\" آغاز می‌شود که نقطه ورود اصلی اسکریپت پایتون است. در ابتدا، با استفاده از np.random.seed و torch.manual_seed، یک \"بذر تصادفی\" (SEED) ثابت تنظیم می‌شود تا اگر کد را صد بار هم اجرا کنید، نتایج (مانند تقسیم داده‌ها) همیشه یکسان و قابل تکرار باشند. سپس، اسکریپت چک می‌کند که آیا GPU (cuda) در دسترس است یا خیر و دستگاه مناسب را انتخاب می‌کند. پس از آن، توکنایزر متناظر با مدل roberta-large بارگذاری می‌شود. در ادامه، فایل CSV داده‌های آموزشی خوانده شده، ستون‌های مورد نیاز (text, summary, y) انتخاب می‌شوند، سطرهای خالی حذف می‌گردند و ستون summary که ممکن است مقادیر خالی داشته باشد، با یک رشته خالی پر می‌شود. مهم‌ترین بخش پردازش در اینجا، ساخت ستون input_text از طریق چسباندن text و summary به یکدیگر است و در نهایت، لیبل‌ها از 1-5 به 0-4 شیفت داده می‌شوند تا برای مدل قابل فهم باشند.\n",
        "</br>\n",
        "</br>\n",
        "بخش دوم: نمونه‌برداری و تقسیم داده‌ها\n",
        "در این مرحله، یک نمونه‌برداری آزمایشی انجام می‌شود. کد چک می‌کند که آیا تعداد کل داده‌ها بیشتر از ۳۰۰۰ است یا خیر. اگر بود، برای تست سریع و اجرای آزمایشی کد، فقط ۳۰۰۰ نمونه به صورت تصادفی از کل دیتافریم انتخاب می‌شود. این کار برای دیباگ کردن و اجرای سریع در محیط‌هایی مثل Colab بسیار مفید است. سپس، این ۳۰۰۰ نمونه (یا کل داده‌ها، اگر کمتر از ۳۰۰۰ بودند) با استفاده از train_test_split به دو بخش آموزشی (۸۵ درصد) و اعتبارسنجی (۱۵ درصد) تقسیم می‌شوند. نکته بسیار مهم در اینجا، استفاده از stratify=df['label'] است که تضمین می‌کند توزیع امتیازها (مثلاً درصد امتیاز ۱ ستاره یا ۵ ستاره) در هر دو مجموعه آموزشی و اعتبارسنجی یکسان باقی بماند.\n",
        "</br>\n",
        "</br>\n",
        "بخش سوم: ساخت لودرها، مدل و تابع خطا\n",
        "پس از تقسیم داده‌ها، تابع کمکی create_data_loader فراخوانی می‌شود تا دیتا لودرهای آموزشی (train_loader) و اعتبارسنجی (val_loader) را بسازد. train_loader داده‌ها را بُر می‌زند (shuffle=True) که برای فرآیند یادگیری حیاتی است، اما val_loader این کار را نمی‌کند. سپس، مدل اصلی (roberta-large برای دسته‌بندی با ۵ خروجی) از Hugging Face بارگذاری شده و بلافاصله به GPU منتقل می‌شود (model.to(device)). در ادامه، بهینه‌ساز AdamW و یک زمان‌بند نرخ یادگیری (lr_scheduler) از نوع \"cosine_with_restarts\" تعریف می‌شوند که به مدل کمک می‌کند هوشمندانه‌تر یاد بگیرد. در نهایت، بخش حیاتی مقابله با عدم توازن داده‌ها فرا می‌رسد: با استفاده از compute_class_weight، وزن‌هایی برای کلاس‌های مختلف محاسبه می‌شود (کلاس‌های کم‌تعدادتر وزن بیشتری می‌گیرند) و این وزن‌ها به تابع خطای CrossEntropyLoss داده می‌شوند. این کار باعث می‌شود مدل به اشتباهات خود در مورد کلاس‌های کم‌تعداد (مثل ۱ ستاره) اهمیت بیشتری بدهد.\n",
        "</br>\n",
        "</br>\n",
        "بخش چهارم: حلقه آموزش و اعتبارسنجی (قلب فرآیند)\n",
        "این بخش، حلقه اصلی آموزش است که به تعداد NUM_EPOCHS (مثلاً ۴ بار) تکرار می‌شود. در ابتدای هر Epoch، مدل با model.train() در حالت آموزش قرار می‌گیرد. سپس، در یک حلقه داخلی، داده‌ها به صورت بچ به بچ از train_loader گرفته شده و به GPU منتقل می‌شوند. برای هر بچ، گرادیان‌ها ابتدا صفر شده (optimizer.zero_grad())، سپس داده‌ها به مدل داده می‌شوند و loss (میزان خطا) محاسبه می‌گردد (loss.backward()). پس از آن، گرادیان‌ها کلیپ (clip) شده تا از ناپایداری جلوگیری شود و در نهایت، وزن‌های مدل با optimizer.step() آپدیت شده و نرخ یادگیری با lr_scheduler.step() تنظیم می‌گردد. پس از اتمام تمام بچ‌های آموزشی، مدل با model.eval() در حالت ارزیابی قرار می‌گیرد و با torch.no_grad() (برای صرفه‌جویی در حافظه)، عملکرد آن روی تمام داده‌های val_loader سنجیده می‌شود. امتیاز F1 (current_f1) محاسبه شده و اگر این امتیاز از بهترین امتیاز قبلی (best_f1) بیشتر بود، مدل فعلی به عنوان \"بهترین مدل\" در فایلی با نام BEST_MODEL_PATH ذخیره می‌شود.\n",
        "</br>\n",
        "</br>\n",
        "بخش پنجم: ارزیابی نهایی و ساخت فایل خروجی\n",
        "پس از اتمام تمام Epochها، بهترین مدلی که در طول فرآیند ذخیره شده بود، دوباره با model.load_state_dict() بارگذاری می‌شود. مدل در حالت ارزیابی قرار گرفته و یک بار دیگر روی داده‌های اعتبارسنجی اجرا می‌شود تا گزارش نهایی و کامل (classification_report) شامل Precision, Recall و F1-Score برای هر کلاس چاپ شود. در نهایت، داده‌های تست (test_data_cleaned.csv) خوانده شده، دقیقاً مانند داده‌های آموزشی پردازش می‌شوند (ترکیب text و summary). با استفاده از یک ترفند هوشمندانه (ایجاد ستون ساختگی label = 0)، از همان create_data_loader برای داده‌های تست استفاده می‌شود. مدل بهترین، روی داده‌های تست اجرا شده، پیش‌بینی‌ها (test_preds) جمع‌آوری می‌شوند، این پیش‌بینی‌ها از 0-4 به 1-5 (با + 1) برگردانده شده و در نهایت، فایل submission_final.csv برای ارسال، ساخته می‌شود.\n",
        "\n",
        "</div>"
      ],
      "metadata": {
        "id": "X25fV8S_Tr7e"
      }
    },
    {
      "cell_type": "markdown",
      "source": [
        "<div dir=\"rtl\">\n",
        "\n",
        " roberta-large یکی از قوی‌ترین و محبوب‌ترین مدل‌های پردازش زبان طبیعی (NLP) است. انتخاب این مدل برای پروژه شما یک انتخاب هدفمند برای رسیدن به بالاترین دقت ممکن بود.\n",
        "\n",
        "#roberta-large چیست؟\n",
        "یک مدل ترنسفورمر پیشرفته: roberta-large (که مخفف Robustly Optimized BERT Approach است) یک مدل زبانی است که توسط فیسبوک (Meta AI) به عنوان نسخه‌ی بهینه‌سازی شده‌ی مدل معروف BERT گوگل، توسعه داده شد.\n",
        "\n",
        "نسخه \"Large\" (بزرگ): این مدل حدود ۳۵۵ میلیون پارامتر دارد. این پارامترها مثل سلول‌های مغزی مدل هستند. هرچه تعداد آن‌ها بیشتر باشد، مدل می‌تواند الگوهای پیچیده‌تری را در زبان یاد بگیرد. (در مقام مقایسه، roberta-base حدود ۱۲۵ میلیون و DistilBERT حدود ۶۶ میلیون پارامتر دارد).\n",
        "\n",
        "آموزش بسیار هوشمندانه: تفاوت اصلی RoBERTa با BERT در نحوه آموزش آن است. تیم فیسبوک دریافتند که اگر BERT را روی داده‌های بسیار بیشتر (۱۶۰ گیگابایت متن در مقابل ۱۶ گیگابایت BERT) و برای مدت زمان طولانی‌تر آموزش دهند و برخی از اهداف آموزشی آن را بهینه‌سازی کنند، نتیجه به طور شگفت‌انگیزی بهتر می‌شود.\n",
        "\n",
        "به طور خلاصه: roberta-large یک نسخه تکامل‌یافته، قوی‌تر و \"باسوادتر\" از مدل BERT است.\n",
        "\n",
        "#چرا از این مدل برای پروژه استفاده کردیم؟\n",
        "دلیل اصلی این بود که شما به دنبال \"بهترین نتیجه\" بودید. وقتی هدف، رسیدن به بالاترین دقت (Accuracy) و F1-Score باشد، roberta-large یکی از بهترین گزینه‌های موجود است.\n",
        "\n",
        "درک عمیق از زبان (Understanding Nuance): تحلیل احساسات و امتیازدهی (۱ تا ۵ ستاره) کار ساده‌ای نیست. مدل باید بتواند تفاوت بین \"بد نبود\" و \"خوب بود\" را بفهمد. همچنین باید بتواند کنایه (sarcasm) یا جملات پیچیده را درک کند.\n",
        "\n",
        "مثال: \"من انتظار یک شاهکار داشتم، اما فیلم فقط خوب بود.\"\n",
        "\n",
        "یک مدل کوچک ممکن است کلمه \"خوب\" را ببیند و امتیاز ۴ یا ۵ بدهد. اما roberta-large به دلیل آموزش گسترده‌اش، می‌تواند کل جمله را درک کرده و بفهمد که این نظر، بیشتر به یک امتیاز ۳ (یعنی متوسط یا کمی ناامیدکننده) نزدیک است.\n",
        "\n",
        "قدرت پیش‌آموزش (Pre-training Power): این مدل قبلاً روی ۱۶۰ گیگابایت متن (شامل کتاب‌ها، مقالات و وب‌سایت‌ها) آموزش دیده است. این یعنی مدل از قبل، درک بسیار خوبی از گرامر، مفاهیم و ارتباط کلمات با هم دارد.\n",
        "\n",
        "کاری که ما در پروژه شما انجام می‌دهیم (یعنی Fine-Tuning)، در واقع مثل این است که یک متخصص زبان‌شناسی بسیار باتجربه را استخدام کنیم و به او فقط یک وظیفه جدید یاد بدهیم: \"حالا از تمام دانش خودت برای امتیازدهی به این نقدها استفاده کن.\"\n",
        "\n",
        "عملکرد اثبات‌شده (State-of-the-Art): roberta-large در زمان انتشار و تا مدت‌ها بعد، رکوردهای بسیاری را در بنچ‌مارک‌های مختلف NLP (از جمله تحلیل احساسات) شکست. این یک مدل امتحان‌پس‌داده و قابل اعتماد برای رسیدن به بالاترین دقت است.\n",
        "\n",
        "نقطه ضعف (The Trade-off):\n",
        "البته این قدرت هزینه‌ای هم دارد:\n",
        "\n",
        "اندازه و سرعت: roberta-large یک مدل بسیار سنگین است. هم حافظه GPU زیادی مصرف می‌کند و هم فرآیند آموزش و پیش‌بینی آن کندتر از مدل‌های سبک‌تری مثل DistilBERT است. به همین دلیل بود که در کدهای پیشرفته‌تر، ما مجبور بودیم از BATCH_SIZE پایین (مثل ۴ یا ۸) و تکنیک‌هایی مانند Mixed Precision و Gradient Accumulation استفاده کنیم تا مدل در حافظه GPU جا شود و آموزش آن ممکن گردد.\n",
        "\n",
        "نتیجه‌گیری: ما roberta-large را انتخاب کردیم چون شما به دنبال حداکثر دقت بودید و این مدل به دلیل درک عمیق و آموزش گسترده‌اش، بهترین شانس را برای درک نظرات پیچیده کاربران و دادن امتیاز دقیق فراهم می‌کند.\n",
        "\n",
        "</div>"
      ],
      "metadata": {
        "id": "1doA8YmPWfQZ"
      }
    },
    {
      "cell_type": "code",
      "source": [
        "if __name__ == \"__main__\":\n",
        "    np.random.seed(SEED)\n",
        "    torch.manual_seed(SEED)\n",
        "    device = torch.device(\"cuda\" if torch.cuda.is_available() else \"cpu\")\n",
        "    print(f\"Using device: {device}\")\n",
        "\n",
        "    tokenizer = AutoTokenizer.from_pretrained(MODEL_NAME)\n",
        "\n",
        "    print(\"Loading and processing data...\")\n",
        "    df = pd.read_csv(TRAIN_DATA_PATH, dtype={'y': 'Int64'})\n",
        "    df = df[['text', 'summary', 'y']].dropna(subset=['text', 'y'])\n",
        "    df['summary'] = df['summary'].fillna('')\n",
        "    df['input_text'] = df['text'].astype(str) + ' </s> ' + df['summary'].astype(str)\n",
        "    df['label'] = df['y'] - 1\n",
        "\n",
        "    if len(df) > 20000:\n",
        "        df = df.sample(n=20000, random_state=SEED)\n",
        "        print(f\"Running on a random sample of 20000 items.\")\n",
        "    else:\n",
        "        print(f\"Dataset has less than 20000 items, running on all {len(df)} items.\")\n",
        "\n",
        "    train_df, val_df = train_test_split(\n",
        "        df, test_size=0.15, random_state=SEED, stratify=df['label']\n",
        "    )\n",
        "\n",
        "    train_loader = create_data_loader(train_df, tokenizer, MAX_LENGTH, BATCH_SIZE, shuffle=True)\n",
        "    val_loader = create_data_loader(val_df, tokenizer, MAX_LENGTH, BATCH_SIZE)\n",
        "    print(\"Data loading complete.\")\n",
        "\n",
        "    model = AutoModelForSequenceClassification.from_pretrained(MODEL_NAME, num_labels=NUM_LABELS)\n",
        "    model.to(device)\n",
        "\n",
        "    optimizer = AdamW(model.parameters(), lr=LEARNING_RATE)\n",
        "    num_training_steps = NUM_EPOCHS * len(train_loader)\n",
        "    lr_scheduler = get_scheduler(\n",
        "        \"cosine_with_restarts\", optimizer=optimizer, num_warmup_steps=50, num_training_steps=num_training_steps\n",
        "    )\n",
        "\n",
        "    class_weights = compute_class_weight(\n",
        "        'balanced', classes=np.unique(train_df['label']), y=train_df['label'].to_numpy()\n",
        "    )\n",
        "    weights = torch.tensor(class_weights, dtype=torch.float).to(device)\n",
        "    loss_fn = torch.nn.CrossEntropyLoss(weight=weights)\n",
        "\n",
        "    print(\"Starting model training on 3000 samples...\")\n",
        "    best_f1 = 0\n",
        "    for epoch in range(NUM_EPOCHS):\n",
        "        print(f\"\\nEpoch {epoch + 1}/{NUM_EPOCHS}\")\n",
        "        model.train()\n",
        "        total_loss = 0\n",
        "        for step, batch in enumerate(train_loader):\n",
        "            optimizer.zero_grad()\n",
        "            input_ids = batch['input_ids'].to(device)\n",
        "            attention_mask = batch['attention_mask'].to(device)\n",
        "            labels = batch['labels'].to(device)\n",
        "            outputs = model(input_ids, attention_mask=attention_mask, labels=labels)\n",
        "            loss = outputs.loss\n",
        "            loss.backward()\n",
        "            torch.nn.utils.clip_grad_norm_(model.parameters(), CLIP_GRAD_NORM)\n",
        "            optimizer.step()\n",
        "            lr_scheduler.step()\n",
        "            total_loss += loss.item()\n",
        "\n",
        "            if step % 100 == 0 and step != 0:\n",
        "                print(f\"  Step {step}, Loss: {total_loss / (step + 1):.4f}\")\n",
        "\n",
        "        avg_train_loss = total_loss / len(train_loader)\n",
        "        print(f\"Epoch {epoch + 1} Training Loss: {avg_train_loss:.4f}\")\n",
        "\n",
        "\n",
        "        model.eval()\n",
        "        all_preds, all_labels = [], []\n",
        "        total_val_loss = 0\n",
        "        with torch.no_grad():\n",
        "            for batch in val_loader:\n",
        "                input_ids = batch['input_ids'].to(device)\n",
        "                attention_mask = batch['attention_mask'].to(device)\n",
        "                labels = batch['labels'].to(device)\n",
        "                outputs = model(input_ids, attention_mask=attention_mask, labels=labels)\n",
        "                loss = outputs.loss\n",
        "                total_val_loss += loss.item()\n",
        "                predictions = torch.argmax(outputs.logits, dim=-1)\n",
        "                all_preds.extend(predictions.cpu().numpy())\n",
        "                all_labels.extend(labels.cpu().numpy())\n",
        "\n",
        "        avg_val_loss = total_val_loss / len(val_loader)\n",
        "        print(f\"Epoch {epoch + 1} Validation Loss: {avg_val_loss:.4f}\")\n",
        "        current_f1 = f1_score(all_labels, all_preds, average='weighted')\n",
        "        print(f\"Validation F1 Score: {current_f1:.4f}\")\n",
        "\n",
        "        if current_f1 > best_f1:\n",
        "            best_f1 = current_f1\n",
        "            torch.save(model.state_dict(), BEST_MODEL_PATH)\n",
        "            print(f\"New best model saved to {BEST_MODEL_PATH}\")\n",
        "\n",
        "    print(f\"\\nTraining Complete. Best F1-Score: {best_f1:.4f}\")\n",
        "\n",
        "    print(\"\\nLoading best model for final evaluation and submission...\")\n",
        "    model.load_state_dict(torch.load(BEST_MODEL_PATH))\n",
        "    model.eval()\n",
        "    all_preds, all_labels = [], []\n",
        "    with torch.no_grad():\n",
        "        for batch in val_loader:\n",
        "            input_ids = batch['input_ids'].to(device)\n",
        "            attention_mask = batch['attention_mask'].to(device)\n",
        "            outputs = model(input_ids, attention_mask=attention_mask)\n",
        "            predictions = torch.argmax(outputs.logits, dim=-1)\n",
        "            all_preds.extend(predictions.cpu().numpy())\n",
        "            all_labels.extend(batch['labels'].cpu().numpy())\n",
        "\n",
        "    print(\"\\nFinal Classification Report on Validation Set:\")\n",
        "    print(classification_report(all_labels, all_preds, target_names=[str(i) for i in range(1, 6)]))\n"
      ],
      "metadata": {
        "colab": {
          "base_uri": "https://localhost:8080/"
        },
        "id": "i2eXiFWqNwBQ",
        "outputId": "dadbf5f0-5669-4c5c-f909-e0fcf7d86dbf"
      },
      "execution_count": 22,
      "outputs": [
        {
          "metadata": {
            "tags": null
          },
          "name": "stdout",
          "output_type": "stream",
          "text": [
            "Using device: cuda\n",
            "Loading and processing data...\n",
            "Running on a random sample of 20000 items.\n",
            "Data loading complete.\n"
          ]
        },
        {
          "metadata": {
            "tags": null
          },
          "name": "stderr",
          "output_type": "stream",
          "text": [
            "Some weights of RobertaForSequenceClassification were not initialized from the model checkpoint at roberta-large and are newly initialized: ['classifier.dense.bias', 'classifier.dense.weight', 'classifier.out_proj.bias', 'classifier.out_proj.weight']\n",
            "You should probably TRAIN this model on a down-stream task to be able to use it for predictions and inference.\n"
          ]
        },
        {
          "output_type": "stream",
          "name": "stdout",
          "text": [
            "Starting model training on 3000 samples...\n",
            "\n",
            "Epoch 1/4\n",
            "  Step 100, Loss: 1.2788\n",
            "  Step 200, Loss: 1.1006\n",
            "  Step 300, Loss: 0.9783\n",
            "  Step 400, Loss: 0.9176\n",
            "  Step 500, Loss: 0.8827\n",
            "  Step 600, Loss: 0.8475\n",
            "  Step 700, Loss: 0.8286\n",
            "  Step 800, Loss: 0.8152\n",
            "  Step 900, Loss: 0.7997\n",
            "  Step 1000, Loss: 0.7894\n",
            "  Step 1100, Loss: 0.7835\n",
            "  Step 1200, Loss: 0.7724\n",
            "  Step 1300, Loss: 0.7667\n",
            "  Step 1400, Loss: 0.7611\n",
            "  Step 1500, Loss: 0.7563\n",
            "  Step 1600, Loss: 0.7498\n",
            "  Step 1700, Loss: 0.7427\n",
            "  Step 1800, Loss: 0.7392\n",
            "  Step 1900, Loss: 0.7363\n",
            "  Step 2000, Loss: 0.7305\n",
            "  Step 2100, Loss: 0.7254\n",
            "Epoch 1 Training Loss: 0.7233\n",
            "Epoch 1 Validation Loss: 0.7296\n",
            "Validation F1 Score: 0.7099\n",
            "New best model saved to best_roberta_large_model.bin\n",
            "\n",
            "Epoch 2/4\n",
            "  Step 100, Loss: 0.5561\n",
            "  Step 200, Loss: 0.5577\n",
            "  Step 300, Loss: 0.5361\n",
            "  Step 400, Loss: 0.5350\n",
            "  Step 500, Loss: 0.5361\n",
            "  Step 600, Loss: 0.5286\n",
            "  Step 700, Loss: 0.5280\n",
            "  Step 800, Loss: 0.5232\n",
            "  Step 900, Loss: 0.5238\n",
            "  Step 1000, Loss: 0.5231\n",
            "  Step 1100, Loss: 0.5216\n",
            "  Step 1200, Loss: 0.5226\n",
            "  Step 1300, Loss: 0.5279\n",
            "  Step 1400, Loss: 0.5281\n",
            "  Step 1500, Loss: 0.5294\n",
            "  Step 1600, Loss: 0.5302\n",
            "  Step 1700, Loss: 0.5257\n",
            "  Step 1800, Loss: 0.5266\n",
            "  Step 1900, Loss: 0.5270\n",
            "  Step 2000, Loss: 0.5283\n",
            "  Step 2100, Loss: 0.5276\n",
            "Epoch 2 Training Loss: 0.5278\n",
            "Epoch 2 Validation Loss: 0.6455\n",
            "Validation F1 Score: 0.7626\n",
            "New best model saved to best_roberta_large_model.bin\n",
            "\n",
            "Epoch 3/4\n",
            "  Step 100, Loss: 0.4022\n",
            "  Step 200, Loss: 0.3863\n",
            "  Step 300, Loss: 0.3935\n",
            "  Step 400, Loss: 0.3943\n",
            "  Step 500, Loss: 0.4012\n",
            "  Step 600, Loss: 0.4027\n",
            "  Step 700, Loss: 0.3927\n",
            "  Step 800, Loss: 0.3938\n",
            "  Step 900, Loss: 0.3941\n",
            "  Step 1000, Loss: 0.3925\n",
            "  Step 1100, Loss: 0.3925\n",
            "  Step 1200, Loss: 0.3932\n",
            "  Step 1300, Loss: 0.3908\n",
            "  Step 1400, Loss: 0.3939\n",
            "  Step 1500, Loss: 0.3957\n",
            "  Step 1600, Loss: 0.3931\n",
            "  Step 1700, Loss: 0.3942\n",
            "  Step 1800, Loss: 0.3977\n",
            "  Step 1900, Loss: 0.3952\n",
            "  Step 2000, Loss: 0.3942\n",
            "  Step 2100, Loss: 0.3926\n",
            "Epoch 3 Training Loss: 0.3935\n",
            "Epoch 3 Validation Loss: 0.8245\n",
            "Validation F1 Score: 0.7648\n",
            "New best model saved to best_roberta_large_model.bin\n",
            "\n",
            "Epoch 4/4\n",
            "  Step 100, Loss: 0.2993\n",
            "  Step 200, Loss: 0.2635\n",
            "  Step 300, Loss: 0.2792\n",
            "  Step 400, Loss: 0.2754\n",
            "  Step 500, Loss: 0.2716\n",
            "  Step 600, Loss: 0.2783\n",
            "  Step 700, Loss: 0.2790\n",
            "  Step 800, Loss: 0.2810\n",
            "  Step 900, Loss: 0.2786\n",
            "  Step 1000, Loss: 0.2770\n",
            "  Step 1100, Loss: 0.2855\n",
            "  Step 1200, Loss: 0.2868\n",
            "  Step 1300, Loss: 0.2892\n",
            "  Step 1400, Loss: 0.2898\n",
            "  Step 1500, Loss: 0.2933\n",
            "  Step 1600, Loss: 0.2966\n",
            "  Step 1700, Loss: 0.3019\n",
            "  Step 1800, Loss: 0.3012\n",
            "  Step 1900, Loss: 0.3001\n",
            "  Step 2000, Loss: 0.3015\n",
            "  Step 2100, Loss: 0.3028\n",
            "Epoch 4 Training Loss: 0.3033\n",
            "Epoch 4 Validation Loss: 0.9829\n",
            "Validation F1 Score: 0.7644\n",
            "\n",
            "Training Complete. Best F1-Score: 0.7648\n",
            "\n",
            "Loading best model for final evaluation and submission...\n",
            "\n",
            "Final Classification Report on Validation Set:\n",
            "              precision    recall  f1-score   support\n",
            "\n",
            "           1       0.77      0.75      0.76       305\n",
            "           2       0.42      0.39      0.41       202\n",
            "           3       0.54      0.53      0.54       299\n",
            "           4       0.62      0.59      0.60       548\n",
            "           5       0.89      0.92      0.90      1646\n",
            "\n",
            "    accuracy                           0.77      3000\n",
            "   macro avg       0.65      0.64      0.64      3000\n",
            "weighted avg       0.76      0.77      0.76      3000\n",
            "\n"
          ]
        }
      ]
    },
    {
      "cell_type": "code",
      "source": [
        "print(\"\\nGenerating final submission file...\")\n",
        "test_df = pd.read_csv(TEST_DATA_PATH)\n",
        "\n",
        "test_df['input_text'] = test_df['text'].astype(str) + ' </s> ' + ''\n",
        "\n",
        "test_texts = test_df.input_text.tolist()\n",
        "test_preds = []\n",
        "\n",
        "test_df['label'] = 0\n",
        "test_loader = create_data_loader(test_df, tokenizer, MAX_LENGTH, BATCH_SIZE)\n",
        "\n",
        "with torch.no_grad():\n",
        "    for batch in test_loader:\n",
        "        input_ids = batch['input_ids'].to(device)\n",
        "        attention_mask = batch['attention_mask'].to(device)\n",
        "        outputs = model(input_ids, attention_mask=attention_mask)\n",
        "        predictions = torch.argmax(outputs.logits, dim=-1)\n",
        "        test_preds.extend(predictions.cpu().numpy())\n",
        "\n",
        "submission_preds = np.array(test_preds) + 1\n",
        "submission_df = pd.DataFrame({'predicted': submission_preds})\n",
        "submission_df.to_csv(SUBMISSION_FILE_PATH, index=False)\n",
        "\n",
        "print(f\"Final submission file created at: {SUBMISSION_FILE_PATH}\")"
      ],
      "metadata": {
        "colab": {
          "base_uri": "https://localhost:8080/",
          "height": 245
        },
        "id": "UfJ904siOiEG",
        "outputId": "8bbb4ccb-6e8e-422e-b03a-efe6e98a417e"
      },
      "execution_count": 2,
      "outputs": [
        {
          "output_type": "stream",
          "name": "stdout",
          "text": [
            "\n",
            "Generating final submission file...\n"
          ]
        },
        {
          "output_type": "error",
          "ename": "NameError",
          "evalue": "name 'pd' is not defined",
          "traceback": [
            "\u001b[0;31m---------------------------------------------------------------------------\u001b[0m",
            "\u001b[0;31mNameError\u001b[0m                                 Traceback (most recent call last)",
            "\u001b[0;32m/tmp/ipython-input-4046627763.py\u001b[0m in \u001b[0;36m<cell line: 0>\u001b[0;34m()\u001b[0m\n\u001b[1;32m      1\u001b[0m \u001b[0mprint\u001b[0m\u001b[0;34m(\u001b[0m\u001b[0;34m\"\\nGenerating final submission file...\"\u001b[0m\u001b[0;34m)\u001b[0m\u001b[0;34m\u001b[0m\u001b[0;34m\u001b[0m\u001b[0m\n\u001b[0;32m----> 2\u001b[0;31m \u001b[0mtest_df\u001b[0m \u001b[0;34m=\u001b[0m \u001b[0mpd\u001b[0m\u001b[0;34m.\u001b[0m\u001b[0mread_csv\u001b[0m\u001b[0;34m(\u001b[0m\u001b[0mTEST_DATA_PATH\u001b[0m\u001b[0;34m)\u001b[0m\u001b[0;34m\u001b[0m\u001b[0;34m\u001b[0m\u001b[0m\n\u001b[0m\u001b[1;32m      3\u001b[0m \u001b[0;34m\u001b[0m\u001b[0m\n\u001b[1;32m      4\u001b[0m \u001b[0mtest_df\u001b[0m\u001b[0;34m[\u001b[0m\u001b[0;34m'input_text'\u001b[0m\u001b[0;34m]\u001b[0m \u001b[0;34m=\u001b[0m \u001b[0mtest_df\u001b[0m\u001b[0;34m[\u001b[0m\u001b[0;34m'text'\u001b[0m\u001b[0;34m]\u001b[0m\u001b[0;34m.\u001b[0m\u001b[0mastype\u001b[0m\u001b[0;34m(\u001b[0m\u001b[0mstr\u001b[0m\u001b[0;34m)\u001b[0m \u001b[0;34m+\u001b[0m \u001b[0;34m' </s> '\u001b[0m \u001b[0;34m+\u001b[0m \u001b[0;34m''\u001b[0m\u001b[0;34m\u001b[0m\u001b[0;34m\u001b[0m\u001b[0m\n\u001b[1;32m      5\u001b[0m \u001b[0;34m\u001b[0m\u001b[0m\n",
            "\u001b[0;31mNameError\u001b[0m: name 'pd' is not defined"
          ]
        }
      ]
    },
    {
      "cell_type": "code",
      "source": [
        "import matplotlib.pyplot as plt\n",
        "import seaborn as sns"
      ],
      "metadata": {
        "id": "l6UJ7ZJXRrD6"
      },
      "execution_count": 16,
      "outputs": []
    },
    {
      "cell_type": "code",
      "source": [
        "def plot_classification_report(report):\n",
        "    report_df = pd.DataFrame(report).iloc[:-1, :].T\n",
        "\n",
        "    plt.figure(figsize=(10, 6))\n",
        "    sns.heatmap(report_df, annot=True, cmap='Blues', fmt='.3f')\n",
        "    plt.title('Classification Metrics per Class', fontsize=16)\n",
        "    plt.xlabel('Metrics', fontsize=12)\n",
        "    plt.ylabel('Classes', fontsize=12)\n",
        "    plt.show()"
      ],
      "metadata": {
        "id": "YC-DifOHWR09"
      },
      "execution_count": 17,
      "outputs": []
    },
    {
      "cell_type": "code",
      "source": [
        "target_names = [str(i) for i in range(1, 6)]\n",
        "\n",
        "report_dict = classification_report(all_labels, all_preds, target_names=target_names, output_dict=True)\n",
        "plot_classification_report(report_dict)"
      ],
      "metadata": {
        "id": "JxIoQ_8eZtah",
        "colab": {
          "base_uri": "https://localhost:8080/",
          "height": 570
        },
        "outputId": "f55fb407-3cb9-46f7-ad0f-d721378f0764"
      },
      "execution_count": 21,
      "outputs": [
        {
          "output_type": "display_data",
          "data": {
            "text/plain": [
              "<Figure size 1000x600 with 2 Axes>"
            ],
            "image/png": "[encoded data removed]"
          },
          "metadata": {}
        }
      ]
    },
    {
      "cell_type": "code",
      "source": [],
      "metadata": {
        "id": "ZEk3JF56UcGe"
      },
      "execution_count": null,
      "outputs": []
    }
  ],
  "metadata": {
    "accelerator": "GPU",
    "colab": {
      "gpuType": "T4",
      "provenance": []
    },
    "kernelspec": {
      "display_name": "Python 3",
      "name": "python3"
    },
    "language_info": {
      "name": "python"
    }
  },
  "nbformat": 4,
  "nbformat_minor": 0
}