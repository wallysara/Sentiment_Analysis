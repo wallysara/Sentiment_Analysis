{
 "cells": [
  {
   "cell_type": "code",
   "execution_count": 42,
   "id": "f3efdd40",
   "metadata": {},
   "outputs": [],
   "source": [
    "import pandas as pd\n",
    "from warnings import filterwarnings\n",
    "import re\n",
    "import textwrap\n",
    "filterwarnings(\"ignore\")"
   ]
  },
  {
   "cell_type": "code",
   "execution_count": 2,
   "id": "468390a5",
   "metadata": {},
   "outputs": [],
   "source": [
    "def overview(df , count = True , just_null = False , just_object = False):\n",
    "    import pandas as pd\n",
    "    \n",
    "    print(f\"  Number of Rows  = {df.shape[0]:,}\")\n",
    "    print(f\"Number of Columns = {df.shape[1]:,}\")\n",
    "\n",
    "    table = pd.DataFrame([])\n",
    "    table[\"Missing Percentage\"] = (df.isna().sum().to_frame() / df.shape[0] * 100).round(1)\n",
    "    table[\"Missing Count\"] = df.isna().sum()\n",
    "    table[\"Data Type\"] = df.dtypes\n",
    "    table.index.name = \"Column\"\n",
    "    \n",
    "    table = table.sort_values(by = [\"Missing Count\" , \"Data Type\"] , ascending = [False , False])\n",
    "    \n",
    "    if just_object == True:\n",
    "        table = table.loc[table[\"Data Type\"] == \"object\"]\n",
    "    if just_null == True:\n",
    "        table = table.loc[table[\"Missing Count\"] > 0] \n",
    "    if count == False:\n",
    "        table = table.drop(\"Missing Count\" , axis = 1)\n",
    "    else:\n",
    "        table[\"Missing Count\"] = table[\"Missing Count\"].apply(lambda x: f\"{x:,}\")\n",
    "    return table"
   ]
  },
  {
   "cell_type": "markdown",
   "id": "821226ab",
   "metadata": {},
   "source": [
    "## 1. Read Data"
   ]
  },
  {
   "cell_type": "code",
   "execution_count": 10,
   "id": "954948df",
   "metadata": {},
   "outputs": [],
   "source": [
    "path_to_train = \"train_data.csv\"\n",
    "df = pd.read_csv(path_to_train)\n",
    "df[\"review_length\"] = df[\"reviewText\"].str.len()\n",
    "\n",
    "path_to_test = \"test_data.csv\"\n",
    "test = pd.read_csv(path_to_test)\n",
    "test[\"review_length\"] = test[\"reviewText\"].str.len()"
   ]
  },
  {
   "cell_type": "code",
   "execution_count": 11,
   "id": "f2b24894",
   "metadata": {},
   "outputs": [
    {
     "name": "stdout",
     "output_type": "stream",
     "text": [
      "  Number of Rows  = 838,944\n",
      "Number of Columns = 12\n"
     ]
    },
    {
     "data": {
      "text/html": [
       "<div>\n",
       "<style scoped>\n",
       "    .dataframe tbody tr th:only-of-type {\n",
       "        vertical-align: middle;\n",
       "    }\n",
       "\n",
       "    .dataframe tbody tr th {\n",
       "        vertical-align: top;\n",
       "    }\n",
       "\n",
       "    .dataframe thead th {\n",
       "        text-align: right;\n",
       "    }\n",
       "</style>\n",
       "<table border=\"1\" class=\"dataframe\">\n",
       "  <thead>\n",
       "    <tr style=\"text-align: right;\">\n",
       "      <th></th>\n",
       "      <th>Missing Percentage</th>\n",
       "      <th>Missing Count</th>\n",
       "      <th>Data Type</th>\n",
       "    </tr>\n",
       "    <tr>\n",
       "      <th>Column</th>\n",
       "      <th></th>\n",
       "      <th></th>\n",
       "      <th></th>\n",
       "    </tr>\n",
       "  </thead>\n",
       "  <tbody>\n",
       "    <tr>\n",
       "      <th>vote</th>\n",
       "      <td>77.2</td>\n",
       "      <td>647,476</td>\n",
       "      <td>object</td>\n",
       "    </tr>\n",
       "    <tr>\n",
       "      <th>style</th>\n",
       "      <td>41.5</td>\n",
       "      <td>348,331</td>\n",
       "      <td>object</td>\n",
       "    </tr>\n",
       "    <tr>\n",
       "      <th>reviewerName</th>\n",
       "      <td>0.0</td>\n",
       "      <td>227</td>\n",
       "      <td>object</td>\n",
       "    </tr>\n",
       "    <tr>\n",
       "      <th>summary</th>\n",
       "      <td>0.0</td>\n",
       "      <td>76</td>\n",
       "      <td>object</td>\n",
       "    </tr>\n",
       "    <tr>\n",
       "      <th>reviewTime</th>\n",
       "      <td>0.0</td>\n",
       "      <td>0</td>\n",
       "      <td>object</td>\n",
       "    </tr>\n",
       "    <tr>\n",
       "      <th>reviewerID</th>\n",
       "      <td>0.0</td>\n",
       "      <td>0</td>\n",
       "      <td>object</td>\n",
       "    </tr>\n",
       "    <tr>\n",
       "      <th>asin</th>\n",
       "      <td>0.0</td>\n",
       "      <td>0</td>\n",
       "      <td>object</td>\n",
       "    </tr>\n",
       "    <tr>\n",
       "      <th>reviewText</th>\n",
       "      <td>0.0</td>\n",
       "      <td>0</td>\n",
       "      <td>object</td>\n",
       "    </tr>\n",
       "    <tr>\n",
       "      <th>overall</th>\n",
       "      <td>0.0</td>\n",
       "      <td>0</td>\n",
       "      <td>int64</td>\n",
       "    </tr>\n",
       "    <tr>\n",
       "      <th>unixReviewTime</th>\n",
       "      <td>0.0</td>\n",
       "      <td>0</td>\n",
       "      <td>int64</td>\n",
       "    </tr>\n",
       "    <tr>\n",
       "      <th>review_length</th>\n",
       "      <td>0.0</td>\n",
       "      <td>0</td>\n",
       "      <td>int64</td>\n",
       "    </tr>\n",
       "    <tr>\n",
       "      <th>verified</th>\n",
       "      <td>0.0</td>\n",
       "      <td>0</td>\n",
       "      <td>bool</td>\n",
       "    </tr>\n",
       "  </tbody>\n",
       "</table>\n",
       "</div>"
      ],
      "text/plain": [
       "                Missing Percentage Missing Count Data Type\n",
       "Column                                                    \n",
       "vote                          77.2       647,476    object\n",
       "style                         41.5       348,331    object\n",
       "reviewerName                   0.0           227    object\n",
       "summary                        0.0            76    object\n",
       "reviewTime                     0.0             0    object\n",
       "reviewerID                     0.0             0    object\n",
       "asin                           0.0             0    object\n",
       "reviewText                     0.0             0    object\n",
       "overall                        0.0             0     int64\n",
       "unixReviewTime                 0.0             0     int64\n",
       "review_length                  0.0             0     int64\n",
       "verified                       0.0             0      bool"
      ]
     },
     "execution_count": 11,
     "metadata": {},
     "output_type": "execute_result"
    }
   ],
   "source": [
    "overview(df)"
   ]
  },
  {
   "cell_type": "markdown",
   "id": "1e73c30e",
   "metadata": {},
   "source": [
    "## 2. Basic Preprocess"
   ]
  },
  {
   "cell_type": "markdown",
   "id": "f5c5eff4",
   "metadata": {},
   "source": [
    "### 2.1. Drop Entirely Duplicated Rows"
   ]
  },
  {
   "cell_type": "code",
   "execution_count": 12,
   "id": "8fcab69c",
   "metadata": {},
   "outputs": [
    {
     "data": {
      "text/plain": [
       "np.int64(8327)"
      ]
     },
     "execution_count": 12,
     "metadata": {},
     "output_type": "execute_result"
    }
   ],
   "source": [
    "df.duplicated().sum()"
   ]
  },
  {
   "cell_type": "code",
   "execution_count": 13,
   "id": "706ca8b7",
   "metadata": {},
   "outputs": [],
   "source": [
    "df = df.drop_duplicates()"
   ]
  },
  {
   "cell_type": "markdown",
   "id": "6b817150",
   "metadata": {},
   "source": [
    "### 2.2. Drop Useless Columns"
   ]
  },
  {
   "cell_type": "code",
   "execution_count": 14,
   "id": "8d11e7e4",
   "metadata": {},
   "outputs": [],
   "source": [
    "df = df.drop(columns = [\"style\" , \"reviewTime\" , \"unixReviewTime\",\n",
    "                        \"reviewerID\" , \"reviewerName\" , \"vote\"])\n",
    "test = test.drop(columns = [\"style\" , \"reviewTime\" , \"unixReviewTime\",\n",
    "                        \"reviewerID\" , \"asin\" , \"reviewerName\" , \"vote\"])"
   ]
  },
  {
   "cell_type": "markdown",
   "id": "d2128d4e",
   "metadata": {},
   "source": [
    "### 2.3. Drop Null, based on `summary`"
   ]
  },
  {
   "cell_type": "code",
   "execution_count": 15,
   "id": "d1ba3544",
   "metadata": {},
   "outputs": [],
   "source": [
    "df = df.dropna(subset = [\"summary\"])"
   ]
  },
  {
   "cell_type": "markdown",
   "id": "0fdc16af",
   "metadata": {},
   "source": [
    "### 2.4. Drop Outliers Based on `review_length`"
   ]
  },
  {
   "cell_type": "code",
   "execution_count": 16,
   "id": "14b4b75d",
   "metadata": {},
   "outputs": [],
   "source": [
    "outlier_boundary = 2_000\n",
    "df = df.loc[df[\"review_length\"] <= outlier_boundary]"
   ]
  },
  {
   "cell_type": "markdown",
   "id": "fb0c3f38",
   "metadata": {},
   "source": [
    "### 2.5. Rename Columns"
   ]
  },
  {
   "cell_type": "code",
   "execution_count": 17,
   "id": "ab8ca081",
   "metadata": {},
   "outputs": [],
   "source": [
    "rename_dict = {\n",
    "    \"overall\" : \"y\",\n",
    "    \"reviewText\" : \"text\",\n",
    "    \"review_length\" : \"len\",\n",
    "}\n",
    "df = df.rename(columns = rename_dict)\n",
    "test = test.rename(columns = rename_dict)"
   ]
  },
  {
   "cell_type": "markdown",
   "id": "9d9d0693",
   "metadata": {},
   "source": [
    "### 2.6. Overview Train Data"
   ]
  },
  {
   "cell_type": "code",
   "execution_count": 18,
   "id": "6d95e8d2",
   "metadata": {},
   "outputs": [
    {
     "name": "stdout",
     "output_type": "stream",
     "text": [
      "  Number of Rows  = 799,898\n",
      "Number of Columns = 6\n"
     ]
    },
    {
     "data": {
      "text/html": [
       "<div>\n",
       "<style scoped>\n",
       "    .dataframe tbody tr th:only-of-type {\n",
       "        vertical-align: middle;\n",
       "    }\n",
       "\n",
       "    .dataframe tbody tr th {\n",
       "        vertical-align: top;\n",
       "    }\n",
       "\n",
       "    .dataframe thead th {\n",
       "        text-align: right;\n",
       "    }\n",
       "</style>\n",
       "<table border=\"1\" class=\"dataframe\">\n",
       "  <thead>\n",
       "    <tr style=\"text-align: right;\">\n",
       "      <th></th>\n",
       "      <th>Missing Percentage</th>\n",
       "      <th>Missing Count</th>\n",
       "      <th>Data Type</th>\n",
       "    </tr>\n",
       "    <tr>\n",
       "      <th>Column</th>\n",
       "      <th></th>\n",
       "      <th></th>\n",
       "      <th></th>\n",
       "    </tr>\n",
       "  </thead>\n",
       "  <tbody>\n",
       "    <tr>\n",
       "      <th>asin</th>\n",
       "      <td>0.0</td>\n",
       "      <td>0</td>\n",
       "      <td>object</td>\n",
       "    </tr>\n",
       "    <tr>\n",
       "      <th>text</th>\n",
       "      <td>0.0</td>\n",
       "      <td>0</td>\n",
       "      <td>object</td>\n",
       "    </tr>\n",
       "    <tr>\n",
       "      <th>summary</th>\n",
       "      <td>0.0</td>\n",
       "      <td>0</td>\n",
       "      <td>object</td>\n",
       "    </tr>\n",
       "    <tr>\n",
       "      <th>y</th>\n",
       "      <td>0.0</td>\n",
       "      <td>0</td>\n",
       "      <td>int64</td>\n",
       "    </tr>\n",
       "    <tr>\n",
       "      <th>len</th>\n",
       "      <td>0.0</td>\n",
       "      <td>0</td>\n",
       "      <td>int64</td>\n",
       "    </tr>\n",
       "    <tr>\n",
       "      <th>verified</th>\n",
       "      <td>0.0</td>\n",
       "      <td>0</td>\n",
       "      <td>bool</td>\n",
       "    </tr>\n",
       "  </tbody>\n",
       "</table>\n",
       "</div>"
      ],
      "text/plain": [
       "          Missing Percentage Missing Count Data Type\n",
       "Column                                              \n",
       "asin                     0.0             0    object\n",
       "text                     0.0             0    object\n",
       "summary                  0.0             0    object\n",
       "y                        0.0             0     int64\n",
       "len                      0.0             0     int64\n",
       "verified                 0.0             0      bool"
      ]
     },
     "execution_count": 18,
     "metadata": {},
     "output_type": "execute_result"
    }
   ],
   "source": [
    "overview(df)"
   ]
  },
  {
   "cell_type": "code",
   "execution_count": 19,
   "id": "35d9455b",
   "metadata": {},
   "outputs": [
    {
     "name": "stdout",
     "output_type": "stream",
     "text": [
      "minimum = 200\n",
      "median  = 396\n",
      "maximum = 2000\n",
      "mean    = 527\n",
      "std     = 357.8\n"
     ]
    }
   ],
   "source": [
    "data = df[\"len\"]\n",
    "print(f\"minimum = {data.min()}\")\n",
    "print(f\"median  = {int(data.median())}\")\n",
    "print(f\"maximum = {data.max()}\")\n",
    "print(f\"mean    = {int(data.mean())}\")\n",
    "print(f\"std     = {data.std():.1f}\")"
   ]
  },
  {
   "cell_type": "code",
   "execution_count": 20,
   "id": "46680ffa",
   "metadata": {},
   "outputs": [
    {
     "data": {
      "text/html": [
       "<div>\n",
       "<style scoped>\n",
       "    .dataframe tbody tr th:only-of-type {\n",
       "        vertical-align: middle;\n",
       "    }\n",
       "\n",
       "    .dataframe tbody tr th {\n",
       "        vertical-align: top;\n",
       "    }\n",
       "\n",
       "    .dataframe thead th {\n",
       "        text-align: right;\n",
       "    }\n",
       "</style>\n",
       "<table border=\"1\" class=\"dataframe\">\n",
       "  <thead>\n",
       "    <tr style=\"text-align: right;\">\n",
       "      <th></th>\n",
       "      <th>y</th>\n",
       "      <th>verified</th>\n",
       "      <th>asin</th>\n",
       "      <th>text</th>\n",
       "      <th>summary</th>\n",
       "      <th>len</th>\n",
       "    </tr>\n",
       "  </thead>\n",
       "  <tbody>\n",
       "    <tr>\n",
       "      <th>0</th>\n",
       "      <td>2</td>\n",
       "      <td>False</td>\n",
       "      <td>0511189877</td>\n",
       "      <td>I have an older URC-WR7 remote and thought thi...</td>\n",
       "      <td>Cannot Learn</td>\n",
       "      <td>561</td>\n",
       "    </tr>\n",
       "    <tr>\n",
       "      <th>1</th>\n",
       "      <td>5</td>\n",
       "      <td>True</td>\n",
       "      <td>0511189877</td>\n",
       "      <td>First time I've EVER had a remote that needed ...</td>\n",
       "      <td>zero programming needed!  Miracle!?</td>\n",
       "      <td>450</td>\n",
       "    </tr>\n",
       "    <tr>\n",
       "      <th>2</th>\n",
       "      <td>4</td>\n",
       "      <td>True</td>\n",
       "      <td>0511189877</td>\n",
       "      <td>Got them and only 2 of them worked. company ca...</td>\n",
       "      <td>Works Good and programs easy.</td>\n",
       "      <td>205</td>\n",
       "    </tr>\n",
       "    <tr>\n",
       "      <th>3</th>\n",
       "      <td>5</td>\n",
       "      <td>True</td>\n",
       "      <td>0511189877</td>\n",
       "      <td>I got tired of the remote being on the wrong s...</td>\n",
       "      <td>Same as TWC remote</td>\n",
       "      <td>284</td>\n",
       "    </tr>\n",
       "    <tr>\n",
       "      <th>4</th>\n",
       "      <td>5</td>\n",
       "      <td>True</td>\n",
       "      <td>0594459451</td>\n",
       "      <td>After purchasing cheap cords from another webs...</td>\n",
       "      <td>Good Quality Cord</td>\n",
       "      <td>247</td>\n",
       "    </tr>\n",
       "  </tbody>\n",
       "</table>\n",
       "</div>"
      ],
      "text/plain": [
       "   y  verified        asin                                               text  \\\n",
       "0  2     False  0511189877  I have an older URC-WR7 remote and thought thi...   \n",
       "1  5      True  0511189877  First time I've EVER had a remote that needed ...   \n",
       "2  4      True  0511189877  Got them and only 2 of them worked. company ca...   \n",
       "3  5      True  0511189877  I got tired of the remote being on the wrong s...   \n",
       "4  5      True  0594459451  After purchasing cheap cords from another webs...   \n",
       "\n",
       "                               summary  len  \n",
       "0                         Cannot Learn  561  \n",
       "1  zero programming needed!  Miracle!?  450  \n",
       "2        Works Good and programs easy.  205  \n",
       "3                   Same as TWC remote  284  \n",
       "4                    Good Quality Cord  247  "
      ]
     },
     "execution_count": 20,
     "metadata": {},
     "output_type": "execute_result"
    }
   ],
   "source": [
    "df.head()"
   ]
  },
  {
   "cell_type": "markdown",
   "id": "73ce874f",
   "metadata": {},
   "source": [
    "### 2.7. Overview Test Data"
   ]
  },
  {
   "cell_type": "code",
   "execution_count": 21,
   "id": "fc58c187",
   "metadata": {},
   "outputs": [
    {
     "name": "stdout",
     "output_type": "stream",
     "text": [
      "  Number of Rows  = 20,000\n",
      "Number of Columns = 4\n"
     ]
    },
    {
     "data": {
      "text/html": [
       "<div>\n",
       "<style scoped>\n",
       "    .dataframe tbody tr th:only-of-type {\n",
       "        vertical-align: middle;\n",
       "    }\n",
       "\n",
       "    .dataframe tbody tr th {\n",
       "        vertical-align: top;\n",
       "    }\n",
       "\n",
       "    .dataframe thead th {\n",
       "        text-align: right;\n",
       "    }\n",
       "</style>\n",
       "<table border=\"1\" class=\"dataframe\">\n",
       "  <thead>\n",
       "    <tr style=\"text-align: right;\">\n",
       "      <th></th>\n",
       "      <th>Missing Percentage</th>\n",
       "      <th>Missing Count</th>\n",
       "      <th>Data Type</th>\n",
       "    </tr>\n",
       "    <tr>\n",
       "      <th>Column</th>\n",
       "      <th></th>\n",
       "      <th></th>\n",
       "      <th></th>\n",
       "    </tr>\n",
       "  </thead>\n",
       "  <tbody>\n",
       "    <tr>\n",
       "      <th>summary</th>\n",
       "      <td>0.0</td>\n",
       "      <td>2</td>\n",
       "      <td>object</td>\n",
       "    </tr>\n",
       "    <tr>\n",
       "      <th>text</th>\n",
       "      <td>0.0</td>\n",
       "      <td>0</td>\n",
       "      <td>object</td>\n",
       "    </tr>\n",
       "    <tr>\n",
       "      <th>len</th>\n",
       "      <td>0.0</td>\n",
       "      <td>0</td>\n",
       "      <td>int64</td>\n",
       "    </tr>\n",
       "    <tr>\n",
       "      <th>verified</th>\n",
       "      <td>0.0</td>\n",
       "      <td>0</td>\n",
       "      <td>bool</td>\n",
       "    </tr>\n",
       "  </tbody>\n",
       "</table>\n",
       "</div>"
      ],
      "text/plain": [
       "          Missing Percentage Missing Count Data Type\n",
       "Column                                              \n",
       "summary                  0.0             2    object\n",
       "text                     0.0             0    object\n",
       "len                      0.0             0     int64\n",
       "verified                 0.0             0      bool"
      ]
     },
     "execution_count": 21,
     "metadata": {},
     "output_type": "execute_result"
    }
   ],
   "source": [
    "overview(test)"
   ]
  },
  {
   "cell_type": "code",
   "execution_count": 22,
   "id": "7d5d8931",
   "metadata": {},
   "outputs": [
    {
     "data": {
      "text/html": [
       "<div>\n",
       "<style scoped>\n",
       "    .dataframe tbody tr th:only-of-type {\n",
       "        vertical-align: middle;\n",
       "    }\n",
       "\n",
       "    .dataframe tbody tr th {\n",
       "        vertical-align: top;\n",
       "    }\n",
       "\n",
       "    .dataframe thead th {\n",
       "        text-align: right;\n",
       "    }\n",
       "</style>\n",
       "<table border=\"1\" class=\"dataframe\">\n",
       "  <thead>\n",
       "    <tr style=\"text-align: right;\">\n",
       "      <th></th>\n",
       "      <th>verified</th>\n",
       "      <th>text</th>\n",
       "      <th>summary</th>\n",
       "      <th>len</th>\n",
       "    </tr>\n",
       "  </thead>\n",
       "  <tbody>\n",
       "    <tr>\n",
       "      <th>0</th>\n",
       "      <td>True</td>\n",
       "      <td>The name and description of this device are mi...</td>\n",
       "      <td>The prize for most useless invention of all ti...</td>\n",
       "      <td>1115</td>\n",
       "    </tr>\n",
       "    <tr>\n",
       "      <th>1</th>\n",
       "      <td>True</td>\n",
       "      <td>One of the molex connectors on the power suppl...</td>\n",
       "      <td>MELTED MOLEX CONNECTOR</td>\n",
       "      <td>231</td>\n",
       "    </tr>\n",
       "    <tr>\n",
       "      <th>2</th>\n",
       "      <td>True</td>\n",
       "      <td>Remote constantly disconnects/ Roku player fre...</td>\n",
       "      <td>Bricked on the regular</td>\n",
       "      <td>225</td>\n",
       "    </tr>\n",
       "    <tr>\n",
       "      <th>3</th>\n",
       "      <td>True</td>\n",
       "      <td>I purchased this 4 year protection plan for a ...</td>\n",
       "      <td>DO NOT BUY!!!</td>\n",
       "      <td>1624</td>\n",
       "    </tr>\n",
       "    <tr>\n",
       "      <th>4</th>\n",
       "      <td>True</td>\n",
       "      <td>I bought one of these and have regretted it ev...</td>\n",
       "      <td>Nightmare - don't buy</td>\n",
       "      <td>2829</td>\n",
       "    </tr>\n",
       "  </tbody>\n",
       "</table>\n",
       "</div>"
      ],
      "text/plain": [
       "   verified                                               text  \\\n",
       "0      True  The name and description of this device are mi...   \n",
       "1      True  One of the molex connectors on the power suppl...   \n",
       "2      True  Remote constantly disconnects/ Roku player fre...   \n",
       "3      True  I purchased this 4 year protection plan for a ...   \n",
       "4      True  I bought one of these and have regretted it ev...   \n",
       "\n",
       "                                             summary   len  \n",
       "0  The prize for most useless invention of all ti...  1115  \n",
       "1                             MELTED MOLEX CONNECTOR   231  \n",
       "2                             Bricked on the regular   225  \n",
       "3                                      DO NOT BUY!!!  1624  \n",
       "4                              Nightmare - don't buy  2829  "
      ]
     },
     "execution_count": 22,
     "metadata": {},
     "output_type": "execute_result"
    }
   ],
   "source": [
    "test.head()"
   ]
  },
  {
   "cell_type": "code",
   "execution_count": 23,
   "id": "334d6969",
   "metadata": {},
   "outputs": [
    {
     "name": "stdout",
     "output_type": "stream",
     "text": [
      "minimum = 200\n",
      "median  = 424\n",
      "maximum = 17583\n",
      "mean    = 647\n",
      "std     = 692.8\n"
     ]
    }
   ],
   "source": [
    "data = test[\"len\"]\n",
    "print(f\"minimum = {data.min()}\")\n",
    "print(f\"median  = {int(data.median())}\")\n",
    "print(f\"maximum = {data.max()}\")\n",
    "print(f\"mean    = {int(data.mean())}\")\n",
    "print(f\"std     = {data.std():.1f}\")"
   ]
  },
  {
   "cell_type": "markdown",
   "id": "1e9ab951",
   "metadata": {},
   "source": [
    "### 2.8. Optional: Drop `review_length`"
   ]
  },
  {
   "cell_type": "code",
   "execution_count": 25,
   "id": "f831e666",
   "metadata": {},
   "outputs": [],
   "source": [
    "# df = df.drop(columns = [\"len\"])\n",
    "# test = test.drop(columns = [\"len\"])"
   ]
  },
  {
   "cell_type": "markdown",
   "id": "1d51b802",
   "metadata": {},
   "source": [
    "### 2.9. Optional: Drop `summary`"
   ]
  },
  {
   "cell_type": "code",
   "execution_count": 26,
   "id": "46f39c87",
   "metadata": {},
   "outputs": [],
   "source": [
    "# df = df.drop(columns = [\"summary\"])\n",
    "# test = test.drop(columns = [\"summary\"])"
   ]
  },
  {
   "cell_type": "markdown",
   "id": "1e264b85",
   "metadata": {},
   "source": [
    "### 2.10. Optional: Drop `verified`"
   ]
  },
  {
   "cell_type": "code",
   "execution_count": 27,
   "id": "2af92a64",
   "metadata": {},
   "outputs": [],
   "source": [
    "df = df.drop(columns = [\"verified\"])\n",
    "test = test.drop(columns = [\"verified\"])"
   ]
  },
  {
   "cell_type": "markdown",
   "id": "7329707d",
   "metadata": {},
   "source": [
    "### 2.11. Fill `summary` in Test Data"
   ]
  },
  {
   "cell_type": "code",
   "execution_count": 28,
   "id": "bc815c5e",
   "metadata": {},
   "outputs": [],
   "source": [
    "test[\"summary\"] = test[\"summary\"].fillna(\"\")"
   ]
  },
  {
   "cell_type": "markdown",
   "id": "fd20d550",
   "metadata": {},
   "source": [
    "## 3. Advanced Preprocess"
   ]
  },
  {
   "cell_type": "markdown",
   "id": "6f51dbd1",
   "metadata": {},
   "source": [
    "### 3.1. Lowercase everything"
   ]
  },
  {
   "cell_type": "code",
   "execution_count": 29,
   "id": "b6ddb9d7",
   "metadata": {},
   "outputs": [],
   "source": [
    "def lowercase(col):\n",
    "    return col.str.lower()"
   ]
  },
  {
   "cell_type": "code",
   "execution_count": 30,
   "id": "34c42dc6",
   "metadata": {},
   "outputs": [],
   "source": [
    "df[\"text\"] = lowercase(df[\"text\"])\n",
    "test[\"text\"] = lowercase(test[\"text\"])\n",
    "\n",
    "# You might need to comment out the next 2 lines    \n",
    "df[\"summary\"] = lowercase(df[\"summary\"])\n",
    "test[\"summary\"] = lowercase(test[\"summary\"])"
   ]
  },
  {
   "cell_type": "markdown",
   "id": "dc62e070",
   "metadata": {},
   "source": [
    "### 3.2. Handle Contractions"
   ]
  },
  {
   "cell_type": "code",
   "execution_count": 31,
   "id": "9a2f99ef",
   "metadata": {},
   "outputs": [],
   "source": [
    "import re\n",
    "def expand_contractions(col):\n",
    "    pattern = re.compile(r\"\\b(\" + \"|\".join(contraction_map.keys()) + r\")\\b\")\n",
    "    return col.apply(lambda x: pattern.sub(lambda m: contraction_map[m.group(0)] , x))"
   ]
  },
  {
   "cell_type": "code",
   "execution_count": 33,
   "id": "bc8b7a05",
   "metadata": {},
   "outputs": [],
   "source": [
    "contraction_map = {\n",
    "    \"ain't\": \"is not\", \"aren't\": \"are not\", \"can't\": \"cannot\", \"can't've\": \"cannot have\",\n",
    "    \"could've\": \"could have\", \"couldn't\": \"could not\", \"couldn't've\": \"could not have\",\n",
    "    \"didn't\": \"did not\", \"doesn't\": \"does not\", \"don't\": \"do not\",\n",
    "    \"hadn't\": \"had not\", \"hadn't've\": \"had not have\", \"hasn't\": \"has not\",\n",
    "    \"haven't\": \"have not\", \"he'd\": \"he would\", \"he'd've\": \"he would have\",\n",
    "    \"he'll\": \"he will\", \"he'll've\": \"he will have\", \"he's\": \"he is\",\n",
    "    \"how'd\": \"how did\", \"how'd'y\": \"how do you\", \"how'll\": \"how will\",\n",
    "    \"how's\": \"how is\", \"i'd\": \"i would\", \"i'd've\": \"i would have\",\n",
    "    \"i'll\": \"i will\", \"i'll've\": \"i will have\", \"i'm\": \"i am\", \"i've\": \"i have\",\n",
    "    \"isn't\": \"is not\", \"it'd\": \"it would\", \"it'd've\": \"it would have\",\n",
    "    \"it'll\": \"it will\", \"it'll've\": \"it will have\", \"it's\": \"it is\",\n",
    "    \"let's\": \"let us\", \"ma'am\": \"madam\", \"might've\": \"might have\",\n",
    "    \"mightn't\": \"might not\", \"mightn't've\": \"might not have\", \"must've\": \"must have\",\n",
    "    \"mustn't\": \"must not\", \"mustn't've\": \"must not have\", \"needn't\": \"need not\",\n",
    "    \"needn't've\": \"need not have\", \"o'clock\": \"of the clock\", \"oughtn't\": \"ought not\",\n",
    "    \"oughtn't've\": \"ought not have\", \"shan't\": \"shall not\", \"sha'n't\": \"shall not\",\n",
    "    \"shan't've\": \"shall not have\", \"she'd\": \"she would\", \"she'd've\": \"she would have\",\n",
    "    \"she'll\": \"she will\", \"she'll've\": \"she will have\", \"she's\": \"she is\",\n",
    "    \"should've\": \"should have\", \"shouldn't\": \"should not\", \"shouldn't've\": \"should not have\",\n",
    "    \"so've\": \"so have\", \"so's\": \"so is\", \"that'd\": \"that would\", \"that'd've\": \"that would have\",\n",
    "    \"that's\": \"that is\", \"there'd\": \"there would\", \"there'd've\": \"there would have\",\n",
    "    \"there's\": \"there is\", \"they'd\": \"they would\", \"they'd've\": \"they would have\",\n",
    "    \"they'll\": \"they will\", \"they'll've\": \"they will have\", \"they're\": \"they are\",\n",
    "    \"they've\": \"they have\", \"to've\": \"to have\", \"wasn't\": \"was not\", \"we'd\": \"we would\",\n",
    "    \"we'd've\": \"we would have\", \"we'll\": \"we will\", \"we'll've\": \"we will have\",\n",
    "    \"we're\": \"we are\", \"we've\": \"we have\", \"weren't\": \"were not\", \"what'll\": \"what will\",\n",
    "    \"what'll've\": \"what will have\", \"what're\": \"what are\", \"what's\": \"what is\",\n",
    "    \"what've\": \"what have\", \"when's\": \"when is\", \"when've\": \"when have\",\n",
    "    \"where'd\": \"where did\", \"where's\": \"where is\", \"where've\": \"where have\",\n",
    "    \"who'll\": \"who will\", \"who'll've\": \"who will have\", \"who's\": \"who is\",\n",
    "    \"who've\": \"who have\", \"why's\": \"why is\", \"why've\": \"why have\",\n",
    "    \"will've\": \"will have\", \"won't\": \"will not\", \"won't've\": \"will not have\",\n",
    "    \"would've\": \"would have\", \"wouldn't\": \"would not\", \"wouldn't've\": \"would not have\",\n",
    "    \"y'all\": \"you all\", \"y'all'd\": \"you all would\", \"y'all'd've\": \"you all would have\",\n",
    "    \"y'all're\": \"you all are\", \"y'all've\": \"you all have\", \"you'd\": \"you would\",\n",
    "    \"you'd've\": \"you would have\", \"you'll\": \"you will\", \"you'll've\": \"you will have\",\n",
    "    \"you're\": \"you are\", \"you've\": \"you have\"\n",
    "}"
   ]
  },
  {
   "cell_type": "code",
   "execution_count": 35,
   "id": "43088b6f",
   "metadata": {},
   "outputs": [
    {
     "data": {
      "text/plain": [
       "115"
      ]
     },
     "execution_count": 35,
     "metadata": {},
     "output_type": "execute_result"
    }
   ],
   "source": [
    "len(contraction_map)"
   ]
  },
  {
   "cell_type": "code",
   "execution_count": 36,
   "id": "8ded627b",
   "metadata": {},
   "outputs": [],
   "source": [
    "df[\"text\"] = expand_contractions(df[\"text\"])\n",
    "test[\"text\"] = expand_contractions(test[\"text\"])\n",
    "\n",
    "# You might need to comment out the next 2 lines    \n",
    "df[\"summary\"] = expand_contractions(df[\"summary\"])\n",
    "test[\"summary\"] = expand_contractions(test[\"summary\"])"
   ]
  },
  {
   "cell_type": "markdown",
   "id": "8432896b",
   "metadata": {},
   "source": [
    "## 3.4. Remove HTML Tags"
   ]
  },
  {
   "cell_type": "code",
   "execution_count": 53,
   "id": "1b4122a0",
   "metadata": {},
   "outputs": [
    {
     "data": {
      "text/plain": [
       "(13999,)"
      ]
     },
     "execution_count": 53,
     "metadata": {},
     "output_type": "execute_result"
    }
   ],
   "source": [
    "df.loc[df[\"text\"].str.contains(\"<\") , \"text\"].shape"
   ]
  },
  {
   "cell_type": "code",
   "execution_count": 47,
   "id": "c7d46399",
   "metadata": {},
   "outputs": [
    {
     "data": {
      "text/plain": [
       "(125,)"
      ]
     },
     "execution_count": 47,
     "metadata": {},
     "output_type": "execute_result"
    }
   ],
   "source": [
    "df.loc[df[\"summary\"].str.contains(\"<\") , \"text\"].shape"
   ]
  },
  {
   "cell_type": "code",
   "execution_count": 54,
   "id": "2cc973d7",
   "metadata": {},
   "outputs": [
    {
     "name": "stdout",
     "output_type": "stream",
     "text": [
      "this filter produces pinkish glow. other reviewers have mentioned\n",
      "this. do not buy this. wasted my money. <a data-hook=\"product-link-\n",
      "linked\" class=\"a-link-normal\" href=\"/tiffen-58mm-uv-protection-\n",
      "filter/dp/b00004zcji/ref=cm_cr_arp_d_rvw_txt?ie=utf8\">tiffen 58mm uv\n",
      "protection filter</a>\n",
      "----------------------------------------------------------------------\n",
      "this filter produces pinkish glow. other reviewers have mentioned\n",
      "this. do not buy this. wasted my money. tiffen 58mm uv protection\n",
      "filter\n"
     ]
    }
   ],
   "source": [
    "str_html2 = df.loc[df[\"text\"].str.contains(r\"<.*?>\") , \"text\"].iloc[25]\n",
    "str_html22 = re.sub(r\"<.*?>\", \"\", str_html2)\n",
    "print(textwrap.fill(str_html2 , width = 70))\n",
    "print(70 * \"-\")\n",
    "print(textwrap.fill(str_html22 , width = 70))"
   ]
  },
  {
   "cell_type": "code",
   "execution_count": 50,
   "id": "9458abc0",
   "metadata": {},
   "outputs": [
    {
     "name": "stdout",
     "output_type": "stream",
     "text": [
      "simply wonderful!  i am very happy with these headphones.  in addition\n",
      "to sounding great, they are comfortable to wear for long periods.  i\n",
      "am a long-time fan of sennheiser, since listening to their \"open air\"\n",
      "headphones back around 1972.  <a data-hook=\"product-link-linked\"\n",
      "class=\"a-link-normal\" href=\"/sennheiser-hd-600-open-back-professional-\n",
      "headphone/dp/b00004sy4h/ref=cm_cr_arp_d_rvw_txt?ie=utf8\">sennheiser hd\n",
      "600 open back professional headphone</a>\n",
      "----------------------------------------------------------------------\n",
      "simply wonderful!  i am very happy with these headphones.  in addition\n",
      "to sounding great, they are comfortable to wear for long periods.  i\n",
      "am a long-time fan of sennheiser, since listening to their \"open air\"\n",
      "headphones back around 1972.  sennheiser hd 600 open back professional\n",
      "headphone\n"
     ]
    }
   ],
   "source": [
    "str_html1 = df.loc[df[\"text\"].str.contains(r\"<.*?>\") , \"text\"].iloc[5]\n",
    "str_html11 = re.sub(r\"<.*?>\", \"\", str_html1)\n",
    "print(textwrap.fill(str_html1 , width = 70))\n",
    "print(70 * \"-\")\n",
    "print(textwrap.fill(str_html11 , width = 70))"
   ]
  },
  {
   "cell_type": "code",
   "execution_count": 55,
   "id": "558964e8",
   "metadata": {},
   "outputs": [],
   "source": [
    "df[\"text\"] = df[\"text\"].apply(lambda x: re.sub(r\"<.*?>\", \"\", x))\n",
    "df[\"summary\"] = df[\"summary\"].apply(lambda x: re.sub(r\"<.*?>\", \"\", x))\n",
    "\n",
    "test[\"text\"] = test[\"text\"].apply(lambda x: re.sub(r\"<.*?>\", \"\", x))\n",
    "test[\"summary\"] = test[\"summary\"].apply(lambda x: re.sub(r\"<.*?>\", \"\", x))"
   ]
  },
  {
   "cell_type": "markdown",
   "id": "23d182fb",
   "metadata": {},
   "source": [
    "### 3.3. Clean Spaces"
   ]
  },
  {
   "cell_type": "code",
   "execution_count": 56,
   "id": "cdf3da58",
   "metadata": {},
   "outputs": [],
   "source": [
    "def clean_spaces(col):\n",
    "    return col.str.replace(r\"\\s+\" , \" \" , regex = True).str.strip()"
   ]
  },
  {
   "cell_type": "code",
   "execution_count": 57,
   "id": "21c84f1a",
   "metadata": {},
   "outputs": [],
   "source": [
    "df[\"text\"] = clean_spaces(df[\"text\"])\n",
    "test[\"text\"] = clean_spaces(test[\"text\"])\n",
    "\n",
    "# You might need to comment out the next 2 lines\n",
    "df[\"summary\"] = clean_spaces(df[\"summary\"])\n",
    "test[\"summary\"] = clean_spaces(test[\"summary\"])"
   ]
  },
  {
   "cell_type": "markdown",
   "id": "30f863cf",
   "metadata": {},
   "source": [
    "## 4. Save Cleaned Data"
   ]
  },
  {
   "cell_type": "code",
   "execution_count": 58,
   "id": "4542993f",
   "metadata": {},
   "outputs": [],
   "source": [
    "path_to_clean_train = \"train_data_cleaned.csv\"\n",
    "path_to_clean_test = \"test_data_cleaned.csv\""
   ]
  },
  {
   "cell_type": "code",
   "execution_count": 59,
   "id": "ce50951a",
   "metadata": {},
   "outputs": [],
   "source": [
    "df.to_csv(path_to_clean_train)\n",
    "test.to_csv(path_to_clean_test)"
   ]
  }
 ],
 "metadata": {
  "kernelspec": {
   "display_name": "venv-3.13.3",
   "language": "python",
   "name": "python3"
  },
  "language_info": {
   "codemirror_mode": {
    "name": "ipython",
    "version": 3
   },
   "file_extension": ".py",
   "mimetype": "text/x-python",
   "name": "python",
   "nbconvert_exporter": "python",
   "pygments_lexer": "ipython3",
   "version": "3.13.3"
  }
 },
 "nbformat": 4,
 "nbformat_minor": 5
}
